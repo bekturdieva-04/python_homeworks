{
 "cells": [
  {
   "cell_type": "markdown",
   "metadata": {},
   "source": [
    "# Homework 1"
   ]
  },
  {
   "cell_type": "code",
   "execution_count": 5,
   "metadata": {},
   "outputs": [
    {
     "data": {
      "text/plain": [
       "'2023-01-07'"
      ]
     },
     "execution_count": 5,
     "metadata": {},
     "output_type": "execute_result"
    }
   ],
   "source": [
    "import pandas as pd\n",
    "df = pd.read_csv('sales_data.csv')\n",
    "df.head()\n",
    "\n",
    "# Total quantity sold\n",
    "total_quantity = df.groupby(\"Category\")[\"Quantity\"].sum()\n",
    "total_quantity\n",
    "\n",
    "# Average price per unit\n",
    "avg_price = df.groupby(\"Category\")[\"Price\"].mean()\n",
    "avg_price\n",
    "\n",
    "# Maximum quantity sold in a single transaction\n",
    "max_quantity = df.groupby(\"Category\")[\"Quantity\"].max()\n",
    "\n",
    "# Identify the top-selling product in each category based on the total quantity sold.\n",
    "top_selling_product = df.groupby([\"Category\", \"Product\"])[\"Quantity\"].sum().reset_index()\n",
    "top_selling_product = top_selling_product.loc[top_selling_product.groupby(\"Category\")[\"Quantity\"].idxmax()]\n",
    "top_selling_product\n",
    "\n",
    "# Find the date on which the highest total sales (quantity * price) occurred.\n",
    "df[\"Total_Sales\"] = df[\"Quantity\"] * df[\"Price\"]\n",
    "top_sales_date = df.groupby(\"Date\")[\"Total_Sales\"].sum().idxmax()\n",
    "top_sales_date"
   ]
  },
  {
   "cell_type": "markdown",
   "metadata": {},
   "source": [
    "Homework 2: Examining Customer Orders"
   ]
  },
  {
   "cell_type": "code",
   "execution_count": null,
   "metadata": {},
   "outputs": [
    {
     "data": {
      "text/html": [
       "<div>\n",
       "<style scoped>\n",
       "    .dataframe tbody tr th:only-of-type {\n",
       "        vertical-align: middle;\n",
       "    }\n",
       "\n",
       "    .dataframe tbody tr th {\n",
       "        vertical-align: top;\n",
       "    }\n",
       "\n",
       "    .dataframe thead th {\n",
       "        text-align: right;\n",
       "    }\n",
       "</style>\n",
       "<table border=\"1\" class=\"dataframe\">\n",
       "  <thead>\n",
       "    <tr style=\"text-align: right;\">\n",
       "      <th></th>\n",
       "      <th>Quantity</th>\n",
       "      <th>Price</th>\n",
       "    </tr>\n",
       "    <tr>\n",
       "      <th>Product</th>\n",
       "      <th></th>\n",
       "      <th></th>\n",
       "    </tr>\n",
       "  </thead>\n",
       "  <tbody>\n",
       "    <tr>\n",
       "      <th>Cargo Pants</th>\n",
       "      <td>6</td>\n",
       "      <td>120</td>\n",
       "    </tr>\n",
       "    <tr>\n",
       "      <th>Dress Shirt</th>\n",
       "      <td>5</td>\n",
       "      <td>50</td>\n",
       "    </tr>\n",
       "    <tr>\n",
       "      <th>Formal Shirt</th>\n",
       "      <td>6</td>\n",
       "      <td>105</td>\n",
       "    </tr>\n",
       "    <tr>\n",
       "      <th>Smartphone</th>\n",
       "      <td>5</td>\n",
       "      <td>800</td>\n",
       "    </tr>\n",
       "    <tr>\n",
       "      <th>Sport Shoes</th>\n",
       "      <td>5</td>\n",
       "      <td>120</td>\n",
       "    </tr>\n",
       "    <tr>\n",
       "      <th>Sunglasses</th>\n",
       "      <td>5</td>\n",
       "      <td>60</td>\n",
       "    </tr>\n",
       "    <tr>\n",
       "      <th>Wireless Earbuds</th>\n",
       "      <td>6</td>\n",
       "      <td>360</td>\n",
       "    </tr>\n",
       "  </tbody>\n",
       "</table>\n",
       "</div>"
      ],
      "text/plain": [
       "                  Quantity  Price\n",
       "Product                          \n",
       "Cargo Pants              6    120\n",
       "Dress Shirt              5     50\n",
       "Formal Shirt             6    105\n",
       "Smartphone               5    800\n",
       "Sport Shoes              5    120\n",
       "Sunglasses               5     60\n",
       "Wireless Earbuds         6    360"
      ]
     },
     "execution_count": 12,
     "metadata": {},
     "output_type": "execute_result"
    }
   ],
   "source": [
    "df_orders = pd.read_csv('customer_orders.csv')\n",
    "df_orders.head()\n",
    "\n",
    "#Group the data by CustomerID and filter out customers who have made less than 20 orders.\n",
    "df_filtered = df_orders[df_orders[\"CustomerID\"].map(df_orders[\"CustomerID\"].value_counts()) >= 20]  \n",
    "df_filtered  \n",
    "\n",
    "#Identify customers who have ordered products with an average price per unit greater than $120.\n",
    "df2 = df_orders[df_orders[\"CustomerID\"].isin(df_orders.groupby(\"CustomerID\")[\"Price\"].mean()[lambda x: x > 120].index)]  \n",
    "df2\n",
    "\n",
    "#Find the total quantity and total price for each product ordered, and filter out products that have a total quantity less than 5 units.\n",
    "df3 = df_orders.groupby(\"Product\").agg({\"Quantity\": \"sum\", \"Price\": \"sum\"}).query(\"Quantity >= 5\")  \n",
    "df3\n"
   ]
  },
  {
   "cell_type": "markdown",
   "metadata": {},
   "source": [
    "Homework Assignment 3: Population Salary Analysis"
   ]
  },
  {
   "cell_type": "code",
   "execution_count": null,
   "metadata": {},
   "outputs": [],
   "source": []
  }
 ],
 "metadata": {
  "kernelspec": {
   "display_name": "Python 3",
   "language": "python",
   "name": "python3"
  },
  "language_info": {
   "codemirror_mode": {
    "name": "ipython",
    "version": 3
   },
   "file_extension": ".py",
   "mimetype": "text/x-python",
   "name": "python",
   "nbconvert_exporter": "python",
   "pygments_lexer": "ipython3",
   "version": "3.13.1"
  }
 },
 "nbformat": 4,
 "nbformat_minor": 2
}
