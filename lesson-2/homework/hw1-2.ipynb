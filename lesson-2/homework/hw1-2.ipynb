{
 "cells": [
  {
   "cell_type": "markdown",
   "metadata": {},
   "source": [
    "# Homework 1\n"
   ]
  },
  {
   "cell_type": "markdown",
   "metadata": {},
   "source": [
    "1. Create a program to ask name and year of birth from user and tell them their age."
   ]
  },
  {
   "cell_type": "code",
   "execution_count": 5,
   "metadata": {},
   "outputs": [
    {
     "name": "stdout",
     "output_type": "stream",
     "text": [
      "Hello Indira. Your age is 21\n"
     ]
    }
   ],
   "source": [
    "name=input(\"What is your name?\")\n",
    "year= int(input(\"what is your year of birth?\"))\n",
    "\n",
    "age= 2025-year\n",
    "print(f\"Hello {name}. Your age is {age}\")"
   ]
  },
  {
   "cell_type": "markdown",
   "metadata": {},
   "source": [
    "Given a side of square. Find its perimeter and area."
   ]
  },
  {
   "cell_type": "code",
   "execution_count": 14,
   "metadata": {},
   "outputs": [
    {
     "name": "stdout",
     "output_type": "stream",
     "text": [
      "The perimeter of the square is 20\n"
     ]
    }
   ],
   "source": [
    "a=5\n",
    "print(f\"The perimeter of the square is {a*4}\")"
   ]
  },
  {
   "cell_type": "markdown",
   "metadata": {},
   "source": [
    "Given diameter of circle. Find its length."
   ]
  },
  {
   "cell_type": "code",
   "execution_count": 15,
   "metadata": {},
   "outputs": [
    {
     "name": "stdout",
     "output_type": "stream",
     "text": [
      "The length of the circle is 9.42\n"
     ]
    }
   ],
   "source": [
    "d=3\n",
    "r=d/2\n",
    "print(f\"The length of the circle is {2*3.14*r}\")"
   ]
  },
  {
   "cell_type": "markdown",
   "metadata": {},
   "source": [
    "Given two numbers a and b. Find their mean."
   ]
  },
  {
   "cell_type": "code",
   "execution_count": 16,
   "metadata": {},
   "outputs": [
    {
     "name": "stdout",
     "output_type": "stream",
     "text": [
      "The mean of the numbers 4 and 6 is 5.0\n"
     ]
    }
   ],
   "source": [
    "a=4\n",
    "b=6\n",
    "print(f\"The mean of the numbers {a} and {b} is {(a+b)/2}\")"
   ]
  },
  {
   "cell_type": "markdown",
   "metadata": {},
   "source": [
    "Given two numbers a and b. Find their sum, product and square of each number."
   ]
  },
  {
   "cell_type": "code",
   "execution_count": 17,
   "metadata": {},
   "outputs": [
    {
     "name": "stdout",
     "output_type": "stream",
     "text": [
      "The sum of the numbers 5 and 7 is 12, Their product is 35, The square of 5 is 25 and The square of 7 is 49\n"
     ]
    }
   ],
   "source": [
    "a=5\n",
    "b=7\n",
    "print(f\"The sum of the numbers {a} and {b} is {a+b}, Their product is {a*b}, The square of {a} is {a**2} and The square of {b} is {b**2}\")\n"
   ]
  },
  {
   "cell_type": "markdown",
   "metadata": {},
   "source": [
    "task2 Extract car names from this text"
   ]
  },
  {
   "cell_type": "code",
   "execution_count": 1,
   "metadata": {},
   "outputs": [
    {
     "name": "stdout",
     "output_type": "stream",
     "text": [
      "Lasetti\n",
      "Malibu\n"
     ]
    }
   ],
   "source": [
    "text1 = 'LMaasleitbtui'\n",
    "print(text1[0::2])\n",
    "print(text1[1::2])"
   ]
  },
  {
   "cell_type": "markdown",
   "metadata": {},
   "source": [
    "task3 Extract car names from this text"
   ]
  },
  {
   "cell_type": "code",
   "execution_count": 2,
   "metadata": {},
   "outputs": [
    {
     "name": "stdout",
     "output_type": "stream",
     "text": [
      "Matiz\n",
      "Damas\n"
     ]
    }
   ],
   "source": [
    "text2 = 'MsaatmiazD'\n",
    "print(text2[0::2])\n",
    "print(text2[-1::-2])"
   ]
  }
 ],
 "metadata": {
  "kernelspec": {
   "display_name": "Python 3",
   "language": "python",
   "name": "python3"
  },
  "language_info": {
   "codemirror_mode": {
    "name": "ipython",
    "version": 3
   },
   "file_extension": ".py",
   "mimetype": "text/x-python",
   "name": "python",
   "nbconvert_exporter": "python",
   "pygments_lexer": "ipython3",
   "version": "3.13.1"
  }
 },
 "nbformat": 4,
 "nbformat_minor": 2
}
