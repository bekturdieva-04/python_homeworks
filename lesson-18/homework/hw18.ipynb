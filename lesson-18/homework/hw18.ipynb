{
 "cells": [
  {
   "cell_type": "markdown",
   "metadata": {},
   "source": [
    "# Homework 1:"
   ]
  },
  {
   "cell_type": "code",
   "execution_count": null,
   "metadata": {},
   "outputs": [
    {
     "data": {
      "text/html": [
       "<div>\n",
       "<style scoped>\n",
       "    .dataframe tbody tr th:only-of-type {\n",
       "        vertical-align: middle;\n",
       "    }\n",
       "\n",
       "    .dataframe tbody tr th {\n",
       "        vertical-align: top;\n",
       "    }\n",
       "\n",
       "    .dataframe thead th {\n",
       "        text-align: right;\n",
       "    }\n",
       "</style>\n",
       "<table border=\"1\" class=\"dataframe\">\n",
       "  <thead>\n",
       "    <tr style=\"text-align: right;\">\n",
       "      <th></th>\n",
       "      <th>id</th>\n",
       "      <th>creationdate</th>\n",
       "      <th>score</th>\n",
       "      <th>viewcount</th>\n",
       "      <th>title</th>\n",
       "      <th>answercount</th>\n",
       "      <th>commentcount</th>\n",
       "      <th>favoritecount</th>\n",
       "      <th>quest_name</th>\n",
       "      <th>quest_rep</th>\n",
       "      <th>ans_name</th>\n",
       "      <th>ans_rep</th>\n",
       "    </tr>\n",
       "  </thead>\n",
       "  <tbody>\n",
       "    <tr>\n",
       "      <th>0</th>\n",
       "      <td>332289</td>\n",
       "      <td>2008-12-01 21:24:44</td>\n",
       "      <td>3184</td>\n",
       "      <td>5962784</td>\n",
       "      <td>How do I change the size of figures drawn with...</td>\n",
       "      <td>14</td>\n",
       "      <td>1</td>\n",
       "      <td>0.0</td>\n",
       "      <td>tatwright</td>\n",
       "      <td>37837.0</td>\n",
       "      <td>NaN</td>\n",
       "      <td>NaN</td>\n",
       "    </tr>\n",
       "    <tr>\n",
       "      <th>1</th>\n",
       "      <td>2051744</td>\n",
       "      <td>2010-01-12 19:31:47</td>\n",
       "      <td>420</td>\n",
       "      <td>587728</td>\n",
       "      <td>How to invert the x or y axis</td>\n",
       "      <td>10</td>\n",
       "      <td>3</td>\n",
       "      <td>0.0</td>\n",
       "      <td>DarkAnt</td>\n",
       "      <td>4211.0</td>\n",
       "      <td>Demitri</td>\n",
       "      <td>13369.0</td>\n",
       "    </tr>\n",
       "  </tbody>\n",
       "</table>\n",
       "</div>"
      ],
      "text/plain": [
       "        id        creationdate  score  viewcount  \\\n",
       "0   332289 2008-12-01 21:24:44   3184    5962784   \n",
       "1  2051744 2010-01-12 19:31:47    420     587728   \n",
       "\n",
       "                                               title  answercount  \\\n",
       "0  How do I change the size of figures drawn with...           14   \n",
       "1                      How to invert the x or y axis           10   \n",
       "\n",
       "   commentcount  favoritecount quest_name  quest_rep ans_name  ans_rep  \n",
       "0             1            0.0  tatwright    37837.0      NaN      NaN  \n",
       "1             3            0.0    DarkAnt     4211.0  Demitri  13369.0  "
      ]
     },
     "execution_count": 23,
     "metadata": {},
     "output_type": "execute_result"
    }
   ],
   "source": [
    "import pandas as pd\n",
    "df = pd.read_csv('stackoverflow_qa.csv')\n",
    "df.head()\n",
    "\n",
    "#Find all questions that were created before 2014\n",
    "df['creationdate'] = pd.to_datetime(df['creationdate'])\n",
    "df_14 = df[df['creationdate'] < '2014-01-01']\n",
    "df_14\n",
    "\n",
    "#Find all questions with a score more than 50\n",
    "df_50 = df[df['score']> 50]\n",
    "df_50\n",
    "\n",
    "#Find all questions with a score between 50 and 100\n",
    "df_50_2 = df[(df['score']> 50) & (df['score']<100)]\n",
    "df_50_2\n",
    "\n",
    "#Find all questions answered by Scott Boston\n",
    "df1 = df[df['ans_name'] == 'Scott Boston']\n",
    "df1 \n",
    "\n",
    "#Find all questions that were created between March, 2014 and October 2014 that were answered by Unutbu and have score less than 5.\n",
    "df_2 = df[(df['creationdate'] > '2014-03-01') &(df['creationdate'] < '2014-10-01') \n",
    "        & (df['ans_name'] == 'Ubuntu') & (df['score']< 5)  ]\n",
    "df_2\n",
    "\n",
    "#Find all questions that have score between 5 and 10 or have a view count of greater than 10,000\n",
    "df_3 = df[(df['score'] < 10) &(df['score'] > 5) \n",
    "        | (df['viewcount'] > 10000) ]\n",
    "df_3\n",
    "\n",
    "#Find all questions that are not answered by Scott Boston\n",
    "filt1 = df[df['ans_name'] != 'Scott Boston']\n",
    "filt1\n"
   ]
  },
  {
   "cell_type": "markdown",
   "metadata": {},
   "source": [
    "# Homework 2"
   ]
  },
  {
   "cell_type": "code",
   "execution_count": null,
   "metadata": {},
   "outputs": [
    {
     "ename": "KeyError",
     "evalue": "\"None of [Index(['A/5 21171', 'PC 17599', 'STON/O2. 3101282', '113803', '373450',\\n       '330877', '17463', '349909', '347742', '237736',\\n       ...\\n       '349212', '349217', '349257', '7552', 'C.A./SOTON 34068',\\n       'SOTON/OQ 392076', '211536', '112053', '111369', '370376'],\\n      dtype='object', length=681)] are in the [columns]\"",
     "output_type": "error",
     "traceback": [
      "\u001b[1;31m---------------------------------------------------------------------------\u001b[0m",
      "\u001b[1;31mKeyError\u001b[0m                                  Traceback (most recent call last)",
      "Cell \u001b[1;32mIn[20], line 38\u001b[0m\n\u001b[0;32m     35\u001b[0m t_df_8\n\u001b[0;32m     37\u001b[0m \u001b[38;5;66;03m# Select Passengers with Unique Ticket Numbers: Extract a DataFrame with passengers having unique ticket numbers.\u001b[39;00m\n\u001b[1;32m---> 38\u001b[0m t_df_9 \u001b[38;5;241m=\u001b[39m \u001b[43mtitanic_df\u001b[49m\u001b[43m[\u001b[49m\u001b[43mtitanic_df\u001b[49m\u001b[43m[\u001b[49m\u001b[38;5;124;43m\"\u001b[39;49m\u001b[38;5;124;43mTicket\u001b[39;49m\u001b[38;5;124;43m\"\u001b[39;49m\u001b[43m]\u001b[49m\u001b[38;5;241;43m.\u001b[39;49m\u001b[43munique\u001b[49m\u001b[43m(\u001b[49m\u001b[43m)\u001b[49m\u001b[43m]\u001b[49m\n\u001b[0;32m     39\u001b[0m t_df_9\n",
      "File \u001b[1;32mc:\\Users\\Indira\\AppData\\Local\\Programs\\Python\\Python313\\Lib\\site-packages\\pandas\\core\\frame.py:4108\u001b[0m, in \u001b[0;36mDataFrame.__getitem__\u001b[1;34m(self, key)\u001b[0m\n\u001b[0;32m   4106\u001b[0m     \u001b[38;5;28;01mif\u001b[39;00m is_iterator(key):\n\u001b[0;32m   4107\u001b[0m         key \u001b[38;5;241m=\u001b[39m \u001b[38;5;28mlist\u001b[39m(key)\n\u001b[1;32m-> 4108\u001b[0m     indexer \u001b[38;5;241m=\u001b[39m \u001b[38;5;28;43mself\u001b[39;49m\u001b[38;5;241;43m.\u001b[39;49m\u001b[43mcolumns\u001b[49m\u001b[38;5;241;43m.\u001b[39;49m\u001b[43m_get_indexer_strict\u001b[49m\u001b[43m(\u001b[49m\u001b[43mkey\u001b[49m\u001b[43m,\u001b[49m\u001b[43m \u001b[49m\u001b[38;5;124;43m\"\u001b[39;49m\u001b[38;5;124;43mcolumns\u001b[39;49m\u001b[38;5;124;43m\"\u001b[39;49m\u001b[43m)\u001b[49m[\u001b[38;5;241m1\u001b[39m]\n\u001b[0;32m   4110\u001b[0m \u001b[38;5;66;03m# take() does not accept boolean indexers\u001b[39;00m\n\u001b[0;32m   4111\u001b[0m \u001b[38;5;28;01mif\u001b[39;00m \u001b[38;5;28mgetattr\u001b[39m(indexer, \u001b[38;5;124m\"\u001b[39m\u001b[38;5;124mdtype\u001b[39m\u001b[38;5;124m\"\u001b[39m, \u001b[38;5;28;01mNone\u001b[39;00m) \u001b[38;5;241m==\u001b[39m \u001b[38;5;28mbool\u001b[39m:\n",
      "File \u001b[1;32mc:\\Users\\Indira\\AppData\\Local\\Programs\\Python\\Python313\\Lib\\site-packages\\pandas\\core\\indexes\\base.py:6200\u001b[0m, in \u001b[0;36mIndex._get_indexer_strict\u001b[1;34m(self, key, axis_name)\u001b[0m\n\u001b[0;32m   6197\u001b[0m \u001b[38;5;28;01melse\u001b[39;00m:\n\u001b[0;32m   6198\u001b[0m     keyarr, indexer, new_indexer \u001b[38;5;241m=\u001b[39m \u001b[38;5;28mself\u001b[39m\u001b[38;5;241m.\u001b[39m_reindex_non_unique(keyarr)\n\u001b[1;32m-> 6200\u001b[0m \u001b[38;5;28;43mself\u001b[39;49m\u001b[38;5;241;43m.\u001b[39;49m\u001b[43m_raise_if_missing\u001b[49m\u001b[43m(\u001b[49m\u001b[43mkeyarr\u001b[49m\u001b[43m,\u001b[49m\u001b[43m \u001b[49m\u001b[43mindexer\u001b[49m\u001b[43m,\u001b[49m\u001b[43m \u001b[49m\u001b[43maxis_name\u001b[49m\u001b[43m)\u001b[49m\n\u001b[0;32m   6202\u001b[0m keyarr \u001b[38;5;241m=\u001b[39m \u001b[38;5;28mself\u001b[39m\u001b[38;5;241m.\u001b[39mtake(indexer)\n\u001b[0;32m   6203\u001b[0m \u001b[38;5;28;01mif\u001b[39;00m \u001b[38;5;28misinstance\u001b[39m(key, Index):\n\u001b[0;32m   6204\u001b[0m     \u001b[38;5;66;03m# GH 42790 - Preserve name from an Index\u001b[39;00m\n",
      "File \u001b[1;32mc:\\Users\\Indira\\AppData\\Local\\Programs\\Python\\Python313\\Lib\\site-packages\\pandas\\core\\indexes\\base.py:6249\u001b[0m, in \u001b[0;36mIndex._raise_if_missing\u001b[1;34m(self, key, indexer, axis_name)\u001b[0m\n\u001b[0;32m   6247\u001b[0m \u001b[38;5;28;01mif\u001b[39;00m nmissing:\n\u001b[0;32m   6248\u001b[0m     \u001b[38;5;28;01mif\u001b[39;00m nmissing \u001b[38;5;241m==\u001b[39m \u001b[38;5;28mlen\u001b[39m(indexer):\n\u001b[1;32m-> 6249\u001b[0m         \u001b[38;5;28;01mraise\u001b[39;00m \u001b[38;5;167;01mKeyError\u001b[39;00m(\u001b[38;5;124mf\u001b[39m\u001b[38;5;124m\"\u001b[39m\u001b[38;5;124mNone of [\u001b[39m\u001b[38;5;132;01m{\u001b[39;00mkey\u001b[38;5;132;01m}\u001b[39;00m\u001b[38;5;124m] are in the [\u001b[39m\u001b[38;5;132;01m{\u001b[39;00maxis_name\u001b[38;5;132;01m}\u001b[39;00m\u001b[38;5;124m]\u001b[39m\u001b[38;5;124m\"\u001b[39m)\n\u001b[0;32m   6251\u001b[0m     not_found \u001b[38;5;241m=\u001b[39m \u001b[38;5;28mlist\u001b[39m(ensure_index(key)[missing_mask\u001b[38;5;241m.\u001b[39mnonzero()[\u001b[38;5;241m0\u001b[39m]]\u001b[38;5;241m.\u001b[39munique())\n\u001b[0;32m   6252\u001b[0m     \u001b[38;5;28;01mraise\u001b[39;00m \u001b[38;5;167;01mKeyError\u001b[39;00m(\u001b[38;5;124mf\u001b[39m\u001b[38;5;124m\"\u001b[39m\u001b[38;5;132;01m{\u001b[39;00mnot_found\u001b[38;5;132;01m}\u001b[39;00m\u001b[38;5;124m not in index\u001b[39m\u001b[38;5;124m\"\u001b[39m)\n",
      "\u001b[1;31mKeyError\u001b[0m: \"None of [Index(['A/5 21171', 'PC 17599', 'STON/O2. 3101282', '113803', '373450',\\n       '330877', '17463', '349909', '347742', '237736',\\n       ...\\n       '349212', '349217', '349257', '7552', 'C.A./SOTON 34068',\\n       'SOTON/OQ 392076', '211536', '112053', '111369', '370376'],\\n      dtype='object', length=681)] are in the [columns]\""
     ]
    }
   ],
   "source": [
    "import pandas as pd\n",
    "titanic_df = pd.read_csv(\"titanic.csv\")\n",
    "titanic_df.head()\n",
    "\n",
    "#Select Female Passengers in Class 1 with Ages between 20 and 30: Extract a DataFrame containing female passengers in Class 1 with ages between 20 and 30.\n",
    "t_df_1 = titanic_df[(titanic_df[\"Sex\"] == \"female\") & (titanic_df[\"Pclass\"] == 1) & (titanic_df[\"Age\"].between(20, 30))]\n",
    "t_df_1\n",
    "\n",
    "#Filter Passengers Who Paid More than $100: Create a DataFrame with passengers who paid a fare greater than $100.\n",
    "t_df_2 = titanic_df[titanic_df[\"Fare\"] > 100 ]\n",
    "t_df_2\n",
    "\n",
    "#Select Passengers Who Survived and Were Alone: Filter passengers who survived and were traveling alone (no siblings, spouses, parents, or children).\n",
    "t_df_3 = titanic_df[(titanic_df[\"Survived\"] == 0) & (titanic_df[\"SibSp\"] == 0) & (titanic_df[\"Parch\"] == 0)]\n",
    "t_df_3\n",
    "\n",
    "#Filter Passengers Embarked from 'C' and Paid More Than $50: Create a DataFrame with passengers who embarked from 'C' and paid more than $50.\n",
    "t_df_4 = titanic_df[(titanic_df[\"Embarked\"] == 'C') & (titanic_df[\"Fare\"] > 50)]\n",
    "t_df_4\n",
    "\n",
    "#Select Passengers with Siblings or Spouses and Parents or Children: Extract passengers who had both siblings or spouses aboard and parents or children aboard.\n",
    "t_df_5 = titanic_df[(titanic_df[\"SibSp\"] == 1) & (titanic_df[\"Parch\"] == 1)]\n",
    "t_df_5\n",
    "\n",
    "#Filter Passengers Aged 15 or Younger Who Didn't Survive: Create a DataFrame with passengers aged 15 or younger who did not survive.\n",
    "t_df_6 = titanic_df[(titanic_df[\"Survived\"] == 1) & (titanic_df[\"Age\"] <= 15)]\n",
    "t_df_6\n",
    "\n",
    "#Select Passengers with Cabins and Fare Greater Than $200: Extract passengers with known cabin numbers and a fare greater than $200.\n",
    "t_df_7 = titanic_df[(titanic_df[\"Cabin\"].notna()) & (titanic_df[\"Fare\"] > 200)]\n",
    "t_df_7\n",
    "\n",
    "#Filter Passengers with Odd-Numbered Passenger IDs: Create a DataFrame with passengers whose PassengerId is an odd number.\n",
    "t_df_8 = titanic_df[titanic_df[\"PassengerId\"] %2 == 1]\n",
    "t_df_8\n"
   ]
  },
  {
   "cell_type": "code",
   "execution_count": null,
   "metadata": {},
   "outputs": [],
   "source": []
  }
 ],
 "metadata": {
  "kernelspec": {
   "display_name": "Python 3",
   "language": "python",
   "name": "python3"
  },
  "language_info": {
   "codemirror_mode": {
    "name": "ipython",
    "version": 3
   },
   "file_extension": ".py",
   "mimetype": "text/x-python",
   "name": "python",
   "nbconvert_exporter": "python",
   "pygments_lexer": "ipython3",
   "version": "3.13.1"
  }
 },
 "nbformat": 4,
 "nbformat_minor": 2
}
