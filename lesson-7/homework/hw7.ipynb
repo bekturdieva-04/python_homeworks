{
 "cells": [
  {
   "cell_type": "markdown",
   "metadata": {},
   "source": [
    "is_prime(n) funksiyasini hosil qiling(n>0). Agar n soni tub bolsa true, aks holsa False qiymat qaytarsin."
   ]
  },
  {
   "cell_type": "code",
   "execution_count": 3,
   "metadata": {},
   "outputs": [
    {
     "name": "stdout",
     "output_type": "stream",
     "text": [
      "True\n"
     ]
    }
   ],
   "source": [
    "def is_prime(n):\n",
    "    if n%2==1:\n",
    "        return True\n",
    "    else:\n",
    "        return False\n",
    "print(is_prime(int(input(\"Enter a number: \"))))"
   ]
  },
  {
   "cell_type": "markdown",
   "metadata": {},
   "source": [
    "k sonining raqamlari yig'indisini hisoblovchi digit_sum(k) rekursiv funksiya tuzing"
   ]
  },
  {
   "cell_type": "code",
   "execution_count": 7,
   "metadata": {},
   "outputs": [
    {
     "name": "stdout",
     "output_type": "stream",
     "text": [
      "9\n"
     ]
    }
   ],
   "source": [
    "def digit_sum(k):\n",
    "    dsum = 0\n",
    "    for i in k:\n",
    "        dsum +=int(i)\n",
    "    return dsum\n",
    "print(digit_sum((input(\"Enter a number: \"))))"
   ]
  },
  {
   "cell_type": "markdown",
   "metadata": {},
   "source": [
    "It is required to print all integer powers of two (that is, numbers of the form 2**k) that do not exceed the number N."
   ]
  },
  {
   "cell_type": "code",
   "execution_count": 10,
   "metadata": {},
   "outputs": [
    {
     "name": "stdout",
     "output_type": "stream",
     "text": [
      "2\n",
      "4\n",
      "8\n",
      "16\n"
     ]
    }
   ],
   "source": [
    "def power_of_2(a):\n",
    "    i = 1\n",
    "    while True:\n",
    "        if 2**i<=a:\n",
    "           print (2**i)\n",
    "        else:\n",
    "            break\n",
    "        i+=1\n",
    "power_of_2(int(input(\"Enter a number: \")))"
   ]
  }
 ],
 "metadata": {
  "kernelspec": {
   "display_name": "Python 3",
   "language": "python",
   "name": "python3"
  },
  "language_info": {
   "codemirror_mode": {
    "name": "ipython",
    "version": 3
   },
   "file_extension": ".py",
   "mimetype": "text/x-python",
   "name": "python",
   "nbconvert_exporter": "python",
   "pygments_lexer": "ipython3",
   "version": "3.13.1"
  }
 },
 "nbformat": 4,
 "nbformat_minor": 2
}
