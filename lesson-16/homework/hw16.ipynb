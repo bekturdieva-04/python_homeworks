{
 "cells": [
  {
   "cell_type": "markdown",
   "metadata": {},
   "source": [
    "51. Create a structured array representing a position (x, y) and a color (r, g, b)"
   ]
  },
  {
   "cell_type": "code",
   "execution_count": 1,
   "metadata": {},
   "outputs": [
    {
     "name": "stdout",
     "output_type": "stream",
     "text": [
      "[((0., 0.), (0, 0, 0)) ((0., 0.), (0, 0, 0)) ((0., 0.), (0, 0, 0))\n",
      " ((0., 0.), (0, 0, 0)) ((0., 0.), (0, 0, 0))]\n"
     ]
    }
   ],
   "source": [
    "import numpy as np\n",
    "\n",
    "dtype = [('position', [('x', float), ('y', float)]), ('color', [('r', int), ('g', int), ('b', int)])]\n",
    "array = np.zeros(5, dtype=dtype)\n",
    "print(array)\n"
   ]
  },
  {
   "cell_type": "markdown",
   "metadata": {},
   "source": [
    "52. Consider a random vector with shape (100,2) representing coordinates, find point-by-point distances"
   ]
  },
  {
   "cell_type": "code",
   "execution_count": 4,
   "metadata": {},
   "outputs": [
    {
     "name": "stdout",
     "output_type": "stream",
     "text": [
      "[[0.         0.40021148 0.50565099 ... 0.44828846 0.32239858 0.42945272]\n",
      " [0.40021148 0.         0.78314957 ... 0.64475639 0.7224671  0.07412021]\n",
      " [0.50565099 0.78314957 0.         ... 0.17852871 0.43507303 0.76621236]\n",
      " ...\n",
      " [0.44828846 0.64475639 0.17852871 ... 0.         0.49954184 0.61713861]\n",
      " [0.32239858 0.7224671  0.43507303 ... 0.49954184 0.         0.74800472]\n",
      " [0.42945272 0.07412021 0.76621236 ... 0.61713861 0.74800472 0.        ]]\n"
     ]
    }
   ],
   "source": [
    "points = np.random.rand(100, 2)\n",
    "distances = np.sqrt(((points[:, np.newaxis, :] - points[np.newaxis, :, :]) ** 2).sum(axis=-1))\n",
    "print(distances)\n"
   ]
  },
  {
   "cell_type": "markdown",
   "metadata": {},
   "source": [
    "53. How to convert a float (32 bits) array into an integer (32 bits) in place?"
   ]
  },
  {
   "cell_type": "code",
   "execution_count": 5,
   "metadata": {},
   "outputs": [
    {
     "name": "stdout",
     "output_type": "stream",
     "text": [
      "[0 1 2 3 4 5 6 7 8 9]\n"
     ]
    }
   ],
   "source": [
    "arr = np.arange(10, dtype=np.float32)\n",
    "arr = arr.astype(np.int32, copy=False)\n",
    "print(arr)\n"
   ]
  },
  {
   "cell_type": "markdown",
   "metadata": {},
   "source": [
    "54. How to read the following file?"
   ]
  },
  {
   "cell_type": "code",
   "execution_count": null,
   "metadata": {},
   "outputs": [
    {
     "name": "stdout",
     "output_type": "stream",
     "text": [
      "[[ 1  2  3  4  5]\n",
      " [ 6 -1 -1  7  8]\n",
      " [-1 -1  9 10 11]]\n"
     ]
    }
   ],
   "source": [
    "arr = np.genfromtxt('file.txt', delimiter=\",\", dtype=int)\n",
    "print(arr)\n"
   ]
  },
  {
   "cell_type": "markdown",
   "metadata": {},
   "source": [
    "55. What is the equivalent of enumerate for NumPy arrays?"
   ]
  },
  {
   "cell_type": "code",
   "execution_count": 9,
   "metadata": {},
   "outputs": [
    {
     "name": "stdout",
     "output_type": "stream",
     "text": [
      "(0,) 10\n",
      "(1,) 20\n",
      "(2,) 30\n",
      "(3,) 40\n"
     ]
    }
   ],
   "source": [
    "arr = np.array([10, 20, 30, 40])\n",
    "for index, value in np.ndenumerate(arr):\n",
    "    print(index, value)\n"
   ]
  },
  {
   "cell_type": "markdown",
   "metadata": {},
   "source": [
    "56. Generate a generic 2D Gaussian-like array"
   ]
  },
  {
   "cell_type": "code",
   "execution_count": 10,
   "metadata": {},
   "outputs": [
    {
     "name": "stdout",
     "output_type": "stream",
     "text": [
      "[[0.36787944 0.44822088 0.51979489 0.57375342 0.60279818 0.60279818\n",
      "  0.57375342 0.51979489 0.44822088 0.36787944]\n",
      " [0.44822088 0.54610814 0.63331324 0.69905581 0.73444367 0.73444367\n",
      "  0.69905581 0.63331324 0.54610814 0.44822088]\n",
      " [0.51979489 0.63331324 0.73444367 0.81068432 0.85172308 0.85172308\n",
      "  0.81068432 0.73444367 0.63331324 0.51979489]\n",
      " [0.57375342 0.69905581 0.81068432 0.89483932 0.9401382  0.9401382\n",
      "  0.89483932 0.81068432 0.69905581 0.57375342]\n",
      " [0.60279818 0.73444367 0.85172308 0.9401382  0.98773022 0.98773022\n",
      "  0.9401382  0.85172308 0.73444367 0.60279818]\n",
      " [0.60279818 0.73444367 0.85172308 0.9401382  0.98773022 0.98773022\n",
      "  0.9401382  0.85172308 0.73444367 0.60279818]\n",
      " [0.57375342 0.69905581 0.81068432 0.89483932 0.9401382  0.9401382\n",
      "  0.89483932 0.81068432 0.69905581 0.57375342]\n",
      " [0.51979489 0.63331324 0.73444367 0.81068432 0.85172308 0.85172308\n",
      "  0.81068432 0.73444367 0.63331324 0.51979489]\n",
      " [0.44822088 0.54610814 0.63331324 0.69905581 0.73444367 0.73444367\n",
      "  0.69905581 0.63331324 0.54610814 0.44822088]\n",
      " [0.36787944 0.44822088 0.51979489 0.57375342 0.60279818 0.60279818\n",
      "  0.57375342 0.51979489 0.44822088 0.36787944]]\n"
     ]
    }
   ],
   "source": [
    "X, Y = np.meshgrid(np.linspace(-1, 1, 10), np.linspace(-1, 1, 10))\n",
    "D = np.sqrt(X*X + Y*Y)\n",
    "sigma, mu = 1.0, 0.0\n",
    "gaussian = np.exp(-( (D - mu)**2 / (2.0 * sigma**2) ))\n",
    "print(gaussian)\n"
   ]
  },
  {
   "cell_type": "markdown",
   "metadata": {},
   "source": [
    "57. How to randomly place p elements in a 2D array?"
   ]
  },
  {
   "cell_type": "code",
   "execution_count": 11,
   "metadata": {},
   "outputs": [
    {
     "name": "stdout",
     "output_type": "stream",
     "text": [
      "[[0. 0. 0. 0. 0. 0. 0. 0. 0. 0.]\n",
      " [0. 0. 0. 0. 0. 0. 0. 0. 0. 1.]\n",
      " [0. 0. 0. 0. 1. 0. 0. 1. 0. 0.]\n",
      " [0. 0. 0. 0. 0. 0. 0. 0. 0. 0.]\n",
      " [0. 0. 0. 0. 0. 0. 0. 0. 0. 0.]\n",
      " [0. 1. 0. 0. 0. 0. 0. 0. 0. 0.]\n",
      " [0. 0. 0. 0. 0. 0. 0. 0. 0. 0.]\n",
      " [0. 0. 0. 0. 0. 0. 0. 0. 0. 0.]\n",
      " [0. 0. 1. 0. 0. 0. 0. 0. 0. 0.]\n",
      " [0. 0. 0. 0. 0. 0. 0. 0. 0. 0.]]\n"
     ]
    }
   ],
   "source": [
    "n, p = 10, 5\n",
    "arr = np.zeros((n, n))\n",
    "indices = np.random.choice(n*n, p, replace=False)\n",
    "arr.ravel()[indices] = 1\n",
    "print(arr)\n"
   ]
  },
  {
   "cell_type": "markdown",
   "metadata": {},
   "source": [
    "58. Subtract the mean of each row of a matrix\n"
   ]
  },
  {
   "cell_type": "code",
   "execution_count": 12,
   "metadata": {},
   "outputs": [
    {
     "name": "stdout",
     "output_type": "stream",
     "text": [
      "[[-0.17619052  0.13872826  0.38181436  0.30938099  0.28309176 -0.12175796\n",
      "  -0.41211653 -0.05086871 -0.02180692 -0.33027474]\n",
      " [ 0.41220281 -0.10026182  0.08363676  0.1916233  -0.47228137  0.14244077\n",
      "   0.45939946 -0.29177551 -0.47281105  0.04782665]\n",
      " [-0.08787432 -0.22600941  0.10399573 -0.17478962 -0.06788182  0.12525057\n",
      "   0.36550398 -0.23450844  0.12118937  0.07512397]\n",
      " [ 0.20815056 -0.03172298  0.11098353  0.21886719 -0.29878001  0.1352444\n",
      "  -0.21934323 -0.0907051  -0.11502972  0.08233536]\n",
      " [-0.30277728 -0.30598991 -0.3258967   0.16098984  0.20439527  0.44303014\n",
      "  -0.42739645  0.23517424  0.19068355  0.1277873 ]]\n"
     ]
    }
   ],
   "source": [
    "X = np.random.rand(5, 10)\n",
    "Y = X - X.mean(axis=1, keepdims=True)\n",
    "print(Y)\n"
   ]
  },
  {
   "cell_type": "markdown",
   "metadata": {},
   "source": [
    "59. How to sort an array by the nth column?"
   ]
  },
  {
   "cell_type": "code",
   "execution_count": 13,
   "metadata": {},
   "outputs": [
    {
     "name": "stdout",
     "output_type": "stream",
     "text": [
      "[[8 2 1 1 8]\n",
      " [4 3 2 3 1]\n",
      " [5 3 3 9 3]\n",
      " [2 3 3 4 7]\n",
      " [2 2 6 5 4]]\n"
     ]
    }
   ],
   "source": [
    "arr = np.random.randint(0, 10, (5, 5))\n",
    "sorted_arr = arr[arr[:, 2].argsort()]\n",
    "print(sorted_arr)\n"
   ]
  },
  {
   "cell_type": "markdown",
   "metadata": {},
   "source": [
    "60. How to tell if a given 2D array has null columns?"
   ]
  },
  {
   "cell_type": "code",
   "execution_count": 14,
   "metadata": {},
   "outputs": [
    {
     "name": "stdout",
     "output_type": "stream",
     "text": [
      "[False  True False]\n"
     ]
    }
   ],
   "source": [
    "arr = np.array([[1, 0, 3], [4, 0, 6], [7, 0, 9]])\n",
    "null_columns = np.all(arr == 0, axis=0)\n",
    "print(null_columns)"
   ]
  },
  {
   "cell_type": "markdown",
   "metadata": {},
   "source": [
    "61. Find the nearest value from a given value in an array"
   ]
  },
  {
   "cell_type": "code",
   "execution_count": 15,
   "metadata": {},
   "outputs": [
    {
     "name": "stdout",
     "output_type": "stream",
     "text": [
      "[33 84 51  8 60 19 94  8 75 51]\n",
      "Nearest value to 42 : 33\n"
     ]
    }
   ],
   "source": [
    "arr = np.random.randint(0, 100, 10)\n",
    "value = 42\n",
    "nearest = arr[np.abs(arr - value).argmin()]\n",
    "print(arr)\n",
    "print(\"Nearest value to\", value, \":\", nearest)"
   ]
  },
  {
   "cell_type": "markdown",
   "metadata": {},
   "source": [
    "62. Considering two arrays with shape (1,3) and (3,1), how to compute their sum using an iterator?"
   ]
  },
  {
   "cell_type": "code",
   "execution_count": 16,
   "metadata": {},
   "outputs": [
    {
     "name": "stdout",
     "output_type": "stream",
     "text": [
      "[[0 1 2]\n",
      " [1 2 3]\n",
      " [2 3 4]]\n"
     ]
    }
   ],
   "source": [
    "A = np.arange(3).reshape(1, 3)\n",
    "B = np.arange(3).reshape(3, 1)\n",
    "\n",
    "it = np.nditer([A, B, None])\n",
    "for x, y, z in it:\n",
    "    z[...] = x + y\n",
    "print(it.operands[2])"
   ]
  },
  {
   "cell_type": "markdown",
   "metadata": {},
   "source": [
    "63. Create an array class that has a name attribute"
   ]
  },
  {
   "cell_type": "code",
   "execution_count": 17,
   "metadata": {},
   "outputs": [
    {
     "name": "stdout",
     "output_type": "stream",
     "text": [
      "My Array\n"
     ]
    }
   ],
   "source": [
    "class NamedArray(np.ndarray):\n",
    "    def __new__(cls, array, name=\"No Name\"):\n",
    "        obj = np.asarray(array).view(cls)\n",
    "        obj.name = name\n",
    "        return obj\n",
    "\n",
    "arr = NamedArray(np.arange(10), \"My Array\")\n",
    "print(arr.name)"
   ]
  },
  {
   "cell_type": "markdown",
   "metadata": {},
   "source": [
    "64. Consider a given vector, how to add 1 to each element indexed by a second vector (be careful with repeated indices)?"
   ]
  },
  {
   "cell_type": "code",
   "execution_count": 18,
   "metadata": {},
   "outputs": [
    {
     "name": "stdout",
     "output_type": "stream",
     "text": [
      "[1. 4. 2. 0. 2. 2. 3. 3. 1. 2.]\n"
     ]
    }
   ],
   "source": [
    "Z = np.zeros(10)\n",
    "indices = np.random.randint(0, 10, 20)\n",
    "np.add.at(Z, indices, 1)\n",
    "print(Z)"
   ]
  },
  {
   "cell_type": "markdown",
   "metadata": {},
   "source": [
    "65. How to accumulate elements of a vector (X) to an array (F) based on an index list (I)?"
   ]
  },
  {
   "cell_type": "code",
   "execution_count": 20,
   "metadata": {},
   "outputs": [
    {
     "name": "stdout",
     "output_type": "stream",
     "text": [
      "[1. 6. 3. 5. 0.]\n"
     ]
    }
   ],
   "source": [
    "X = np.array([1, 2, 3, 4, 5])\n",
    "I = np.array([0, 1, 2, 1, 3])\n",
    "F = np.zeros(5)\n",
    "np.add.at(F, I, X)\n",
    "print(F)\n"
   ]
  },
  {
   "cell_type": "markdown",
   "metadata": {},
   "source": [
    "66. Considering a (w,h,3) image of (dtype=ubyte), compute the number of unique colors"
   ]
  },
  {
   "cell_type": "code",
   "execution_count": 21,
   "metadata": {},
   "outputs": [
    {
     "name": "stdout",
     "output_type": "stream",
     "text": [
      "25\n"
     ]
    }
   ],
   "source": [
    "\n",
    "w, h = 5, 5\n",
    "image = np.random.randint(0, 256, (w, h, 3), dtype=np.uint8)\n",
    "colors = np.unique(image.reshape(-1, 3), axis=0)\n",
    "print(len(colors))"
   ]
  },
  {
   "cell_type": "markdown",
   "metadata": {},
   "source": [
    "67. Considering a four-dimensional array, how to get the sum over the last two axes at once?"
   ]
  },
  {
   "cell_type": "code",
   "execution_count": 22,
   "metadata": {},
   "outputs": [
    {
     "name": "stdout",
     "output_type": "stream",
     "text": [
      "(3, 4)\n"
     ]
    }
   ],
   "source": [
    "A = np.random.rand(3, 4, 5, 6)\n",
    "sum_A = A.sum(axis=(-2, -1))\n",
    "print(sum_A.shape)"
   ]
  },
  {
   "cell_type": "markdown",
   "metadata": {},
   "source": [
    "68. Considering a one-dimensional vector D, how to compute means of subsets of D using a vector S of same size describing subset indices?"
   ]
  },
  {
   "cell_type": "code",
   "execution_count": 24,
   "metadata": {},
   "outputs": [
    {
     "name": "stdout",
     "output_type": "stream",
     "text": [
      "[0.39494622 0.63955427 0.10070426]\n"
     ]
    }
   ],
   "source": [
    "\n",
    "D = np.random.rand(10)\n",
    "S = np.random.randint(0, 3, 10)\n",
    "mean_values = np.bincount(S, weights=D) / np.bincount(S)\n",
    "print(mean_values)"
   ]
  },
  {
   "cell_type": "markdown",
   "metadata": {},
   "source": [
    "69. How to get the diagonal of a dot product?"
   ]
  },
  {
   "cell_type": "code",
   "execution_count": 25,
   "metadata": {},
   "outputs": [
    {
     "name": "stdout",
     "output_type": "stream",
     "text": [
      "7.256113588284609\n"
     ]
    }
   ],
   "source": [
    "A = np.random.rand(5, 5)\n",
    "B = np.random.rand(5, 5)\n",
    "diagonal = np.einsum(\"ii\", np.dot(A, B))\n",
    "print(diagonal)"
   ]
  },
  {
   "cell_type": "markdown",
   "metadata": {},
   "source": [
    "70. Consider the vector [1, 2, 3, 4, 5], how to build a new vector with 3 consecutive zeros interleaved between each value?"
   ]
  },
  {
   "cell_type": "code",
   "execution_count": 26,
   "metadata": {},
   "outputs": [
    {
     "name": "stdout",
     "output_type": "stream",
     "text": [
      "[1. 0. 0. 0. 2. 0. 0. 0. 3. 0. 0. 0. 4. 0. 0. 0. 5.]\n"
     ]
    }
   ],
   "source": [
    "Z = np.array([1, 2, 3, 4, 5])\n",
    "new_Z = np.zeros(len(Z) + (len(Z) - 1) * 3)\n",
    "new_Z[::4] = Z\n",
    "print(new_Z)"
   ]
  },
  {
   "cell_type": "markdown",
   "metadata": {},
   "source": [
    "71. Consider an array of dimension (5,5,3), how to multiply it by an array with dimensions (5,5)?"
   ]
  },
  {
   "cell_type": "code",
   "execution_count": 27,
   "metadata": {},
   "outputs": [
    {
     "name": "stdout",
     "output_type": "stream",
     "text": [
      "[[[2.80265180e-01 1.52586741e-01 6.10359626e-02]\n",
      "  [8.29024868e-02 3.74947846e-01 2.72758250e-01]\n",
      "  [7.61388975e-02 8.64190882e-01 7.01244862e-01]\n",
      "  [1.13765407e-01 4.63671685e-01 7.50235709e-01]\n",
      "  [1.34231286e-01 9.75012300e-02 4.38865063e-02]]\n",
      "\n",
      " [[2.79516636e-01 5.58306562e-01 8.02315404e-01]\n",
      "  [5.12510483e-01 5.36319443e-01 7.73098676e-01]\n",
      "  [4.52369704e-01 1.07340502e-01 8.60924695e-01]\n",
      "  [3.10165322e-03 2.82833348e-04 5.90909043e-04]\n",
      "  [6.57121829e-01 9.84521854e-02 4.51345478e-01]]\n",
      "\n",
      " [[3.59288227e-01 2.77421340e-01 3.25670149e-01]\n",
      "  [3.64087878e-01 5.37698181e-01 3.69940466e-01]\n",
      "  [5.43278772e-02 4.51488434e-02 2.25459517e-02]\n",
      "  [3.70908656e-01 7.59687353e-01 2.43075228e-01]\n",
      "  [6.69676333e-02 6.39292432e-02 1.17414079e-01]]\n",
      "\n",
      " [[1.13345682e-01 4.08993813e-01 2.95135570e-01]\n",
      "  [2.55818498e-01 5.63152701e-02 1.14364197e-01]\n",
      "  [3.15764254e-02 4.57450158e-02 3.19822795e-02]\n",
      "  [3.52555357e-02 8.18793796e-02 4.43399319e-02]\n",
      "  [3.82887510e-01 3.80002517e-02 1.69864799e-01]]\n",
      "\n",
      " [[3.35942331e-01 3.58492885e-01 1.00074247e-01]\n",
      "  [3.97241787e-01 2.50677770e-01 3.74977001e-01]\n",
      "  [2.65518195e-01 3.80328958e-01 4.00198648e-01]\n",
      "  [3.02158145e-01 4.36515832e-01 2.12361886e-01]\n",
      "  [3.73602702e-01 6.19839677e-01 2.48396861e-01]]]\n"
     ]
    }
   ],
   "source": [
    "A = np.random.rand(5, 5, 3)\n",
    "B = np.random.rand(5, 5)\n",
    "result = A * B[:, :, None]\n",
    "print(result)\n"
   ]
  },
  {
   "cell_type": "markdown",
   "metadata": {},
   "source": [
    "72. How to swap two rows of an array?"
   ]
  },
  {
   "cell_type": "code",
   "execution_count": 28,
   "metadata": {},
   "outputs": [
    {
     "name": "stdout",
     "output_type": "stream",
     "text": [
      "[[ 5  6  7  8  9]\n",
      " [ 0  1  2  3  4]\n",
      " [10 11 12 13 14]\n",
      " [15 16 17 18 19]\n",
      " [20 21 22 23 24]]\n"
     ]
    }
   ],
   "source": [
    "A = np.arange(25).reshape(5, 5)\n",
    "A[[0, 1]] = A[[1, 0]]\n",
    "print(A)"
   ]
  },
  {
   "cell_type": "markdown",
   "metadata": {},
   "source": [
    "74. Given a sorted array C that corresponds to a bincount, how to produce an array A such that np.bincount(A) == C?"
   ]
  },
  {
   "cell_type": "code",
   "execution_count": 30,
   "metadata": {},
   "outputs": [
    {
     "name": "stdout",
     "output_type": "stream",
     "text": [
      "[0 0 0 0 1 1 2 3 3 3]\n"
     ]
    }
   ],
   "source": [
    "C = np.array([4, 2, 1, 3])\n",
    "A = np.repeat(np.arange(len(C)), C)\n",
    "print(A)"
   ]
  },
  {
   "cell_type": "markdown",
   "metadata": {},
   "source": [
    "75. How to compute averages using a sliding window over an array?"
   ]
  },
  {
   "cell_type": "code",
   "execution_count": 31,
   "metadata": {},
   "outputs": [
    {
     "name": "stdout",
     "output_type": "stream",
     "text": [
      "[1. 2. 3. 4. 5. 6. 7. 8.]\n"
     ]
    }
   ],
   "source": [
    "def moving_average(a, n=3):\n",
    "    ret = np.cumsum(a, dtype=float)\n",
    "    ret[n:] = ret[n:] - ret[:-n]\n",
    "    return ret[n - 1:] / n\n",
    "\n",
    "arr = np.arange(10)\n",
    "print(moving_average(arr, n=3))"
   ]
  },
  {
   "cell_type": "markdown",
   "metadata": {},
   "source": [
    "76. Consider a one-dimensional array Z, build a two-dimensional array where each row is shifted by 1."
   ]
  },
  {
   "cell_type": "code",
   "execution_count": 32,
   "metadata": {},
   "outputs": [
    {
     "name": "stdout",
     "output_type": "stream",
     "text": [
      "[[ 1  2  3  4]\n",
      " [ 2  3  4  5]\n",
      " [ 3  4  5  6]\n",
      " [ 4  5  6  7]\n",
      " [ 5  6  7  8]\n",
      " [ 6  7  8  9]\n",
      " [ 7  8  9 10]\n",
      " [ 8  9 10 11]\n",
      " [ 9 10 11 12]\n",
      " [10 11 12 13]\n",
      " [11 12 13 14]]\n"
     ]
    }
   ],
   "source": [
    "Z = np.arange(1, 15)\n",
    "R = np.lib.stride_tricks.sliding_window_view(Z, (4,))\n",
    "print(R)"
   ]
  },
  {
   "cell_type": "markdown",
   "metadata": {},
   "source": [
    "77. How to negate a boolean, or change the sign of a float in place?"
   ]
  },
  {
   "cell_type": "code",
   "execution_count": 33,
   "metadata": {},
   "outputs": [
    {
     "name": "stdout",
     "output_type": "stream",
     "text": [
      "[ True  True False  True  True  True False  True  True False]\n",
      "[-0.06023373 -6.23182919 -9.41280326 -5.80686533 -4.91308975 -6.27036801\n",
      " -8.21629154 -0.87623035 -5.68033922 -8.49210465]\n"
     ]
    }
   ],
   "source": [
    "Z = np.random.randint(0, 2, 10, dtype=bool)\n",
    "Z = ~Z\n",
    "print(Z)\n",
    "\n",
    "A = np.random.rand(10) * 10\n",
    "A = -A\n",
    "print(A)"
   ]
  },
  {
   "cell_type": "markdown",
   "metadata": {},
   "source": [
    "78. Compute distance from a point to each line defined by two points (2D case)."
   ]
  },
  {
   "cell_type": "code",
   "execution_count": 34,
   "metadata": {},
   "outputs": [
    {
     "name": "stdout",
     "output_type": "stream",
     "text": [
      "[0.10818363 0.14685343 0.20662438 0.18580809 0.36407665]\n"
     ]
    },
    {
     "name": "stderr",
     "output_type": "stream",
     "text": [
      "C:\\Users\\Indira\\AppData\\Local\\Temp\\ipykernel_17552\\3951450405.py:5: DeprecationWarning: Arrays of 2-dimensional vectors are deprecated. Use arrays of 3-dimensional vectors instead. (deprecated in NumPy 2.0)\n",
      "  d = np.abs(np.cross(P1 - P0, P0 - p)) / np.linalg.norm(P1 - P0, axis=1)\n"
     ]
    }
   ],
   "source": [
    "P0 = np.random.rand(5, 2)\n",
    "P1 = np.random.rand(5, 2)\n",
    "p = np.random.rand(1, 2)\n",
    "\n",
    "d = np.abs(np.cross(P1 - P0, P0 - p)) / np.linalg.norm(P1 - P0, axis=1)\n",
    "print(d)"
   ]
  },
  {
   "cell_type": "markdown",
   "metadata": {},
   "source": [
    "80. Extract a subpart with a fixed shape centered on a given element (pad if necessary)."
   ]
  },
  {
   "cell_type": "code",
   "execution_count": 36,
   "metadata": {},
   "outputs": [
    {
     "name": "stdout",
     "output_type": "stream",
     "text": [
      "[[44 45 46]\n",
      " [54 55 56]\n",
      " [64 65 66]]\n"
     ]
    }
   ],
   "source": [
    "\n",
    "def extract_subarray(arr, center, shape, fill_value=0):\n",
    "    R, C = arr.shape\n",
    "    r, c = center\n",
    "    sh_r, sh_c = shape\n",
    "    \n",
    "    pad = np.full((R + sh_r, C + sh_c), fill_value)\n",
    "    pad[sh_r//2:R+sh_r//2, sh_c//2:C+sh_c//2] = arr\n",
    "    \n",
    "    return pad[r:r+sh_r, c:c+sh_c]\n",
    "\n",
    "A = np.arange(100).reshape(10, 10)\n",
    "center = (5, 5)\n",
    "shape = (3, 3)\n",
    "print(extract_subarray(A, center, shape))"
   ]
  },
  {
   "cell_type": "markdown",
   "metadata": {},
   "source": [
    "81. Generate an array where each row is a sliding window over a given array."
   ]
  },
  {
   "cell_type": "code",
   "execution_count": 37,
   "metadata": {},
   "outputs": [
    {
     "name": "stdout",
     "output_type": "stream",
     "text": [
      "[[ 1  2  3  4]\n",
      " [ 2  3  4  5]\n",
      " [ 3  4  5  6]\n",
      " [ 4  5  6  7]\n",
      " [ 5  6  7  8]\n",
      " [ 6  7  8  9]\n",
      " [ 7  8  9 10]\n",
      " [ 8  9 10 11]\n",
      " [ 9 10 11 12]\n",
      " [10 11 12 13]\n",
      " [11 12 13 14]]\n"
     ]
    }
   ],
   "source": [
    "Z = np.arange(1, 15)\n",
    "R = np.lib.stride_tricks.sliding_window_view(Z, window_shape=4)\n",
    "print(R)"
   ]
  },
  {
   "cell_type": "markdown",
   "metadata": {},
   "source": [
    "82. Compute the rank of a matrix."
   ]
  },
  {
   "cell_type": "code",
   "execution_count": 38,
   "metadata": {},
   "outputs": [
    {
     "name": "stdout",
     "output_type": "stream",
     "text": [
      "5\n"
     ]
    }
   ],
   "source": [
    "A = np.random.rand(5, 5)\n",
    "rank = np.linalg.matrix_rank(A)\n",
    "print(rank)"
   ]
  },
  {
   "cell_type": "markdown",
   "metadata": {},
   "source": [
    "83. Find the most frequent value in an array."
   ]
  },
  {
   "cell_type": "code",
   "execution_count": 39,
   "metadata": {},
   "outputs": [
    {
     "name": "stdout",
     "output_type": "stream",
     "text": [
      "7\n"
     ]
    }
   ],
   "source": [
    "Z = np.random.randint(0, 10, 100)\n",
    "most_frequent = np.bincount(Z).argmax()\n",
    "print(most_frequent)"
   ]
  },
  {
   "cell_type": "markdown",
   "metadata": {},
   "source": [
    "84. Extract all contiguous 3×3 blocks from a random 10×10 matrix."
   ]
  },
  {
   "cell_type": "code",
   "execution_count": 40,
   "metadata": {},
   "outputs": [
    {
     "name": "stdout",
     "output_type": "stream",
     "text": [
      "[[[[2 3 5]\n",
      "   [4 5 3]\n",
      "   [3 0 9]]\n",
      "\n",
      "  [[3 5 6]\n",
      "   [5 3 7]\n",
      "   [0 9 5]]\n",
      "\n",
      "  [[5 6 9]\n",
      "   [3 7 9]\n",
      "   [9 5 6]]\n",
      "\n",
      "  [[6 9 7]\n",
      "   [7 9 2]\n",
      "   [5 6 9]]\n",
      "\n",
      "  [[9 7 1]\n",
      "   [9 2 2]\n",
      "   [6 9 2]]\n",
      "\n",
      "  [[7 1 8]\n",
      "   [2 2 3]\n",
      "   [9 2 0]]\n",
      "\n",
      "  [[1 8 3]\n",
      "   [2 3 4]\n",
      "   [2 0 5]]\n",
      "\n",
      "  [[8 3 8]\n",
      "   [3 4 9]\n",
      "   [0 5 8]]]\n",
      "\n",
      "\n",
      " [[[4 5 3]\n",
      "   [3 0 9]\n",
      "   [3 0 2]]\n",
      "\n",
      "  [[5 3 7]\n",
      "   [0 9 5]\n",
      "   [0 2 9]]\n",
      "\n",
      "  [[3 7 9]\n",
      "   [9 5 6]\n",
      "   [2 9 0]]\n",
      "\n",
      "  [[7 9 2]\n",
      "   [5 6 9]\n",
      "   [9 0 8]]\n",
      "\n",
      "  [[9 2 2]\n",
      "   [6 9 2]\n",
      "   [0 8 1]]\n",
      "\n",
      "  [[2 2 3]\n",
      "   [9 2 0]\n",
      "   [8 1 4]]\n",
      "\n",
      "  [[2 3 4]\n",
      "   [2 0 5]\n",
      "   [1 4 1]]\n",
      "\n",
      "  [[3 4 9]\n",
      "   [0 5 8]\n",
      "   [4 1 5]]]\n",
      "\n",
      "\n",
      " [[[3 0 9]\n",
      "   [3 0 2]\n",
      "   [2 2 7]]\n",
      "\n",
      "  [[0 9 5]\n",
      "   [0 2 9]\n",
      "   [2 7 2]]\n",
      "\n",
      "  [[9 5 6]\n",
      "   [2 9 0]\n",
      "   [7 2 3]]\n",
      "\n",
      "  [[5 6 9]\n",
      "   [9 0 8]\n",
      "   [2 3 2]]\n",
      "\n",
      "  [[6 9 2]\n",
      "   [0 8 1]\n",
      "   [3 2 7]]\n",
      "\n",
      "  [[9 2 0]\n",
      "   [8 1 4]\n",
      "   [2 7 6]]\n",
      "\n",
      "  [[2 0 5]\n",
      "   [1 4 1]\n",
      "   [7 6 3]]\n",
      "\n",
      "  [[0 5 8]\n",
      "   [4 1 5]\n",
      "   [6 3 1]]]\n",
      "\n",
      "\n",
      " [[[3 0 2]\n",
      "   [2 2 7]\n",
      "   [8 4 2]]\n",
      "\n",
      "  [[0 2 9]\n",
      "   [2 7 2]\n",
      "   [4 2 9]]\n",
      "\n",
      "  [[2 9 0]\n",
      "   [7 2 3]\n",
      "   [2 9 0]]\n",
      "\n",
      "  [[9 0 8]\n",
      "   [2 3 2]\n",
      "   [9 0 1]]\n",
      "\n",
      "  [[0 8 1]\n",
      "   [3 2 7]\n",
      "   [0 1 8]]\n",
      "\n",
      "  [[8 1 4]\n",
      "   [2 7 6]\n",
      "   [1 8 8]]\n",
      "\n",
      "  [[1 4 1]\n",
      "   [7 6 3]\n",
      "   [8 8 9]]\n",
      "\n",
      "  [[4 1 5]\n",
      "   [6 3 1]\n",
      "   [8 9 5]]]\n",
      "\n",
      "\n",
      " [[[2 2 7]\n",
      "   [8 4 2]\n",
      "   [3 5 1]]\n",
      "\n",
      "  [[2 7 2]\n",
      "   [4 2 9]\n",
      "   [5 1 1]]\n",
      "\n",
      "  [[7 2 3]\n",
      "   [2 9 0]\n",
      "   [1 1 7]]\n",
      "\n",
      "  [[2 3 2]\n",
      "   [9 0 1]\n",
      "   [1 7 0]]\n",
      "\n",
      "  [[3 2 7]\n",
      "   [0 1 8]\n",
      "   [7 0 5]]\n",
      "\n",
      "  [[2 7 6]\n",
      "   [1 8 8]\n",
      "   [0 5 5]]\n",
      "\n",
      "  [[7 6 3]\n",
      "   [8 8 9]\n",
      "   [5 5 1]]\n",
      "\n",
      "  [[6 3 1]\n",
      "   [8 9 5]\n",
      "   [5 1 9]]]\n",
      "\n",
      "\n",
      " [[[8 4 2]\n",
      "   [3 5 1]\n",
      "   [7 4 2]]\n",
      "\n",
      "  [[4 2 9]\n",
      "   [5 1 1]\n",
      "   [4 2 7]]\n",
      "\n",
      "  [[2 9 0]\n",
      "   [1 1 7]\n",
      "   [2 7 4]]\n",
      "\n",
      "  [[9 0 1]\n",
      "   [1 7 0]\n",
      "   [7 4 0]]\n",
      "\n",
      "  [[0 1 8]\n",
      "   [7 0 5]\n",
      "   [4 0 1]]\n",
      "\n",
      "  [[1 8 8]\n",
      "   [0 5 5]\n",
      "   [0 1 3]]\n",
      "\n",
      "  [[8 8 9]\n",
      "   [5 5 1]\n",
      "   [1 3 1]]\n",
      "\n",
      "  [[8 9 5]\n",
      "   [5 1 9]\n",
      "   [3 1 8]]]\n",
      "\n",
      "\n",
      " [[[3 5 1]\n",
      "   [7 4 2]\n",
      "   [7 2 9]]\n",
      "\n",
      "  [[5 1 1]\n",
      "   [4 2 7]\n",
      "   [2 9 1]]\n",
      "\n",
      "  [[1 1 7]\n",
      "   [2 7 4]\n",
      "   [9 1 5]]\n",
      "\n",
      "  [[1 7 0]\n",
      "   [7 4 0]\n",
      "   [1 5 3]]\n",
      "\n",
      "  [[7 0 5]\n",
      "   [4 0 1]\n",
      "   [5 3 1]]\n",
      "\n",
      "  [[0 5 5]\n",
      "   [0 1 3]\n",
      "   [3 1 5]]\n",
      "\n",
      "  [[5 5 1]\n",
      "   [1 3 1]\n",
      "   [1 5 2]]\n",
      "\n",
      "  [[5 1 9]\n",
      "   [3 1 8]\n",
      "   [5 2 4]]]\n",
      "\n",
      "\n",
      " [[[7 4 2]\n",
      "   [7 2 9]\n",
      "   [2 8 1]]\n",
      "\n",
      "  [[4 2 7]\n",
      "   [2 9 1]\n",
      "   [8 1 2]]\n",
      "\n",
      "  [[2 7 4]\n",
      "   [9 1 5]\n",
      "   [1 2 5]]\n",
      "\n",
      "  [[7 4 0]\n",
      "   [1 5 3]\n",
      "   [2 5 7]]\n",
      "\n",
      "  [[4 0 1]\n",
      "   [5 3 1]\n",
      "   [5 7 1]]\n",
      "\n",
      "  [[0 1 3]\n",
      "   [3 1 5]\n",
      "   [7 1 9]]\n",
      "\n",
      "  [[1 3 1]\n",
      "   [1 5 2]\n",
      "   [1 9 9]]\n",
      "\n",
      "  [[3 1 8]\n",
      "   [5 2 4]\n",
      "   [9 9 9]]]]\n"
     ]
    }
   ],
   "source": [
    "Z = np.random.randint(0, 10, (10, 10))\n",
    "blocks = np.lib.stride_tricks.sliding_window_view(Z, (3, 3))\n",
    "print(blocks)"
   ]
  },
  {
   "cell_type": "markdown",
   "metadata": {},
   "source": [
    "85. Create a 2D array subclass where Z[i, j] == Z[j, i]."
   ]
  },
  {
   "cell_type": "code",
   "execution_count": 41,
   "metadata": {},
   "outputs": [
    {
     "name": "stdout",
     "output_type": "stream",
     "text": [
      "[[ 0.  0.  0.  0.  0.]\n",
      " [ 0.  0.  0.  0.  0.]\n",
      " [ 0.  0.  0. 10.  0.]\n",
      " [ 0.  0. 10.  0.  0.]\n",
      " [ 0.  0.  0.  0.  0.]]\n"
     ]
    }
   ],
   "source": [
    "class SymmetricArray(np.ndarray):\n",
    "    def __setitem__(self, index, value):\n",
    "        i, j = index\n",
    "        super(SymmetricArray, self).__setitem__((i, j), value)\n",
    "        super(SymmetricArray, self).__setitem__((j, i), value)\n",
    "\n",
    "Z = np.zeros((5, 5)).view(SymmetricArray)\n",
    "Z[2, 3] = 10\n",
    "print(Z)"
   ]
  },
  {
   "cell_type": "markdown",
   "metadata": {},
   "source": [
    "86. Compute the sum of p matrix products at once (p matrices of shape (n,n) and p vectors of shape (n,1))."
   ]
  },
  {
   "cell_type": "code",
   "execution_count": 42,
   "metadata": {},
   "outputs": [
    {
     "name": "stdout",
     "output_type": "stream",
     "text": [
      "[[[0.91791635]\n",
      "  [0.72076379]\n",
      "  [0.74248883]\n",
      "  [1.3978555 ]]\n",
      "\n",
      " [[1.0963191 ]\n",
      "  [1.51076057]\n",
      "  [2.13090787]\n",
      "  [1.74763653]]\n",
      "\n",
      " [[1.10647809]\n",
      "  [1.49088003]\n",
      "  [1.64395379]\n",
      "  [1.65533064]]]\n"
     ]
    }
   ],
   "source": [
    "p, n = 3, 4\n",
    "matrices = np.random.rand(p, n, n)\n",
    "vectors = np.random.rand(p, n, 1)\n",
    "\n",
    "result = np.einsum('ijk,ikl->ijl', matrices, vectors)\n",
    "print(result)"
   ]
  },
  {
   "cell_type": "markdown",
   "metadata": {},
   "source": [
    "87. Compute the block sum of a 16×16 array with block size 4×4."
   ]
  },
  {
   "cell_type": "code",
   "execution_count": 43,
   "metadata": {},
   "outputs": [
    {
     "name": "stdout",
     "output_type": "stream",
     "text": [
      "[[7.27622449 8.47843502 9.55890344 7.27724196]\n",
      " [8.88912146 6.77753587 8.09457946 8.28845617]\n",
      " [9.56831337 8.28785166 9.23258358 8.29596337]\n",
      " [7.58169581 5.93080095 7.77096035 5.75956873]]\n"
     ]
    }
   ],
   "source": [
    "Z = np.random.rand(16, 16)\n",
    "block_size = (4, 4)\n",
    "block_sum = Z.reshape(4, 4, 4, 4).sum(axis=(2, 3))\n",
    "print(block_sum)"
   ]
  },
  {
   "cell_type": "markdown",
   "metadata": {},
   "source": [
    "89. Find the n largest values of an array."
   ]
  },
  {
   "cell_type": "code",
   "execution_count": 44,
   "metadata": {},
   "outputs": [
    {
     "name": "stdout",
     "output_type": "stream",
     "text": [
      "[65 74 84]\n"
     ]
    }
   ],
   "source": [
    "Z = np.random.randint(0, 100, 10)\n",
    "n = 3\n",
    "largest = np.sort(Z)[-n:]\n",
    "print(largest)\n"
   ]
  },
  {
   "cell_type": "markdown",
   "metadata": {},
   "source": [
    "90. Compute the Cartesian product of multiple arrays."
   ]
  },
  {
   "cell_type": "code",
   "execution_count": 45,
   "metadata": {},
   "outputs": [
    {
     "name": "stdout",
     "output_type": "stream",
     "text": [
      "[[1 4 6]\n",
      " [1 5 6]\n",
      " [2 4 6]\n",
      " [2 5 6]\n",
      " [3 4 6]\n",
      " [3 5 6]\n",
      " [1 4 7]\n",
      " [1 5 7]\n",
      " [2 4 7]\n",
      " [2 5 7]\n",
      " [3 4 7]\n",
      " [3 5 7]]\n"
     ]
    }
   ],
   "source": [
    "arrays = [np.array([1, 2, 3]), np.array([4, 5]), np.array([6, 7])]\n",
    "cartesian_product = np.array(np.meshgrid(*arrays)).T.reshape(-1, len(arrays))\n",
    "print(cartesian_product)"
   ]
  },
  {
   "cell_type": "markdown",
   "metadata": {},
   "source": [
    "91. Create a record array from a regular array."
   ]
  },
  {
   "cell_type": "code",
   "execution_count": 46,
   "metadata": {},
   "outputs": [
    {
     "name": "stdout",
     "output_type": "stream",
     "text": [
      "[(1, 2. , 'Hello') (2, 3.5, 'World')]\n"
     ]
    }
   ],
   "source": [
    "Z = np.array([(1, 2.0, 'Hello'), (2, 3.5, 'World')], dtype=[('id', int), ('value', float), ('text', 'U10')])\n",
    "print(Z)\n"
   ]
  },
  {
   "cell_type": "markdown",
   "metadata": {},
   "source": [
    "92. Compute Z to the power of 3 using three different methods."
   ]
  },
  {
   "cell_type": "code",
   "execution_count": 48,
   "metadata": {},
   "outputs": [
    {
     "name": "stdout",
     "output_type": "stream",
     "text": [
      "[ 0  1  8 27 64] [ 0  1  8 27 64] [ 0  1  8 27 64]\n"
     ]
    }
   ],
   "source": [
    "Z = np.arange(5)\n",
    "\n",
    "power1 = Z**3\n",
    "power2 = np.power(Z, 3)\n",
    "power3 = np.einsum('i,i,i->i', Z, Z, Z)\n",
    "\n",
    "print(power1, power2, power3)"
   ]
  },
  {
   "cell_type": "markdown",
   "metadata": {},
   "source": [
    "94. Extract rows with unequal values from a 10×3 matrix."
   ]
  },
  {
   "cell_type": "code",
   "execution_count": 51,
   "metadata": {},
   "outputs": [
    {
     "name": "stdout",
     "output_type": "stream",
     "text": [
      "[[0 1 4]\n",
      " [1 4 1]\n",
      " [4 1 2]\n",
      " [2 4 4]\n",
      " [1 4 3]\n",
      " [4 3 0]\n",
      " [4 0 1]\n",
      " [4 0 4]\n",
      " [0 0 2]]\n"
     ]
    }
   ],
   "source": [
    "Z = np.random.randint(0, 5, (10, 3))\n",
    "unique_rows = Z[(Z[:, 0] != Z[:, 1]) | (Z[:, 1] != Z[:, 2])]\n",
    "print(unique_rows)"
   ]
  },
  {
   "cell_type": "markdown",
   "metadata": {},
   "source": [
    "95. Convert a vector of ints into a matrix binary representation."
   ]
  },
  {
   "cell_type": "code",
   "execution_count": 52,
   "metadata": {},
   "outputs": [
    {
     "name": "stdout",
     "output_type": "stream",
     "text": [
      "[[0 0 0 0 0 0 0 0]\n",
      " [1 0 0 0 0 0 0 0]\n",
      " [0 1 0 0 0 0 0 0]\n",
      " [1 1 0 0 0 0 0 0]\n",
      " [0 0 1 0 0 0 0 0]\n",
      " [1 0 1 0 0 0 0 0]\n",
      " [0 1 1 0 0 0 0 0]\n",
      " [1 1 1 0 0 0 0 0]\n",
      " [0 0 0 1 0 0 0 0]]\n"
     ]
    }
   ],
   "source": [
    "Z = np.array([0, 1, 2, 3, 4, 5, 6, 7, 8])\n",
    "binary_matrix = ((Z[:, None] & (1 << np.arange(8))) > 0).astype(int)\n",
    "print(binary_matrix)"
   ]
  },
  {
   "cell_type": "markdown",
   "metadata": {},
   "source": [
    "96. Extract unique rows from a 2D array."
   ]
  },
  {
   "cell_type": "code",
   "execution_count": 53,
   "metadata": {},
   "outputs": [
    {
     "name": "stdout",
     "output_type": "stream",
     "text": [
      "[[0 1 1]\n",
      " [0 1 4]\n",
      " [1 0 3]\n",
      " [1 1 2]\n",
      " [2 4 0]\n",
      " [3 0 1]\n",
      " [3 2 2]\n",
      " [3 3 3]\n",
      " [4 1 3]\n",
      " [4 2 1]]\n"
     ]
    }
   ],
   "source": [
    "Z = np.random.randint(0, 5, (10, 3))\n",
    "unique_rows = np.unique(Z, axis=0)\n",
    "print(unique_rows)"
   ]
  },
  {
   "cell_type": "markdown",
   "metadata": {},
   "source": [
    "97. Compute einsum equivalents for inner, outer, sum, and multiplication."
   ]
  },
  {
   "cell_type": "code",
   "execution_count": 54,
   "metadata": {},
   "outputs": [
    {
     "name": "stdout",
     "output_type": "stream",
     "text": [
      "32 \n",
      " [[ 4  5  6]\n",
      " [ 8 10 12]\n",
      " [12 15 18]] \n",
      " 6 \n",
      " [ 4 10 18]\n"
     ]
    }
   ],
   "source": [
    "A = np.array([1, 2, 3])\n",
    "B = np.array([4, 5, 6])\n",
    "\n",
    "inner = np.einsum('i,i->', A, B) \n",
    "outer = np.einsum('i,j->ij', A, B)\n",
    "sum_all = np.einsum('i->', A)  \n",
    "mul = np.einsum('i,i->i', A, B) \n",
    "\n",
    "print(inner, \"\\n\", outer, \"\\n\", sum_all, \"\\n\", mul)"
   ]
  },
  {
   "cell_type": "markdown",
   "metadata": {},
   "source": [
    "98. Sample a path using equidistant samples."
   ]
  },
  {
   "cell_type": "code",
   "execution_count": 55,
   "metadata": {},
   "outputs": [
    {
     "name": "stdout",
     "output_type": "stream",
     "text": [
      "[ 0.          0.8961922   0.79522006 -0.19056796 -0.96431712 -0.66510151\n",
      "  0.37415123  0.99709789  0.51060568 -0.54402111]\n"
     ]
    }
   ],
   "source": [
    "X = np.linspace(0, 10, num=100)\n",
    "Y = np.sin(X)\n",
    "sample_points = np.linspace(0, 10, num=10)\n",
    "sampled_Y = np.interp(sample_points, X, Y)\n",
    "print(sampled_Y)"
   ]
  },
  {
   "cell_type": "markdown",
   "metadata": {},
   "source": [
    "99. Select rows that can be interpreted as draws from a multinomial distribution."
   ]
  },
  {
   "cell_type": "code",
   "execution_count": 56,
   "metadata": {},
   "outputs": [
    {
     "name": "stdout",
     "output_type": "stream",
     "text": [
      "[]\n"
     ]
    }
   ],
   "source": [
    "X = np.array([[1, 2, 2], [3, 3, 3], [2, 2, 2], [1, 1, 3]])\n",
    "n = 5\n",
    "valid_rows = X[np.all(X.sum(axis=1) == n, axis=0)]\n",
    "print(valid_rows)"
   ]
  },
  {
   "cell_type": "markdown",
   "metadata": {},
   "source": [
    "100. Compute bootstrapped 95% confidence intervals for the mean of an array."
   ]
  },
  {
   "cell_type": "code",
   "execution_count": 57,
   "metadata": {},
   "outputs": [
    {
     "name": "stdout",
     "output_type": "stream",
     "text": [
      "95% Confidence Interval: (-0.10307247362116541, 0.016713178873121307)\n"
     ]
    }
   ],
   "source": [
    "X = np.random.randn(1000)\n",
    "N = 1000  # Number of resamples\n",
    "means = np.random.choice(X, (N, len(X)), replace=True).mean(axis=1)\n",
    "ci_lower, ci_upper = np.percentile(means, [2.5, 97.5])\n",
    "\n",
    "print(f\"95% Confidence Interval: ({ci_lower}, {ci_upper})\")"
   ]
  },
  {
   "cell_type": "markdown",
   "metadata": {},
   "source": [
    "# Homework 2"
   ]
  },
  {
   "cell_type": "code",
   "execution_count": 58,
   "metadata": {},
   "outputs": [
    {
     "name": "stdout",
     "output_type": "stream",
     "text": [
      "array: [ 1  2  3  4  5  6  7  8  9 10]\n",
      "Square: [  1   4   9  16  25  36  49  64  81 100]\n",
      "sum: 385\n",
      "mean: 38.5\n",
      "standart deviation: 32.41990129534635\n"
     ]
    }
   ],
   "source": [
    "arr = np.arange(1, 11)\n",
    "\n",
    "squared_arr = arr ** 2\n",
    "sum_squared = np.sum(squared_arr)\n",
    "mean_squared = np.mean(squared_arr)\n",
    "std_squared = np.std(squared_arr)\n",
    "\n",
    "print(\"array:\", arr)\n",
    "print(\"Square:\", squared_arr)\n",
    "print(\"sum:\", sum_squared)\n",
    "print(\"mean:\", mean_squared)\n",
    "print(\"standart deviation:\", std_squared)\n"
   ]
  }
 ],
 "metadata": {
  "kernelspec": {
   "display_name": "Python 3",
   "language": "python",
   "name": "python3"
  },
  "language_info": {
   "codemirror_mode": {
    "name": "ipython",
    "version": 3
   },
   "file_extension": ".py",
   "mimetype": "text/x-python",
   "name": "python",
   "nbconvert_exporter": "python",
   "pygments_lexer": "ipython3",
   "version": "3.13.1"
  }
 },
 "nbformat": 4,
 "nbformat_minor": 2
}
