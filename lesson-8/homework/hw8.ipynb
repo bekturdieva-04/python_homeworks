{
 "cells": [
  {
   "cell_type": "markdown",
   "metadata": {},
   "source": [
    "Write a Python program to handle a ZeroDivisionError exception when dividing a number by zero."
   ]
  },
  {
   "cell_type": "code",
   "execution_count": 1,
   "metadata": {},
   "outputs": [
    {
     "name": "stdout",
     "output_type": "stream",
     "text": [
      "ZeroDivisionError: division by zero. Divisor cannot be zero. \n"
     ]
    }
   ],
   "source": [
    "try:\n",
    "    a = int(input('Enter dividend number: '))\n",
    "    b = int(input('Enter divisor number: '))\n",
    "    print(a/b)\n",
    "except ZeroDivisionError as zex:\n",
    "    print(f'{type(zex).__name__}: {zex}. Divisor cannot be zero. ')"
   ]
  },
  {
   "cell_type": "markdown",
   "metadata": {},
   "source": [
    "Write a Python program that prompts the user to input an integer and raises a ValueError exception if the input is not a valid integer."
   ]
  },
  {
   "cell_type": "code",
   "execution_count": 4,
   "metadata": {},
   "outputs": [
    {
     "name": "stdout",
     "output_type": "stream",
     "text": [
      "Error Type: ValueError: invalid literal for int() with base 10: 'nhg'. \n"
     ]
    }
   ],
   "source": [
    "try:\n",
    "    n = int(input('Enter an integer number: '))\n",
    "except ValueError as vex:\n",
    "    print(f'Error Type: {type(vex).__name__}: {vex}. ')"
   ]
  },
  {
   "cell_type": "markdown",
   "metadata": {},
   "source": [
    "Write a Python program that opens a file and handles a FileNotFoundError exception if the file does not exist."
   ]
  },
  {
   "cell_type": "code",
   "execution_count": null,
   "metadata": {},
   "outputs": [],
   "source": [
    "try:\n",
    "    path = (input('Enter path to open a file: '))\n",
    "    file = open(path, r)\n",
    "    print(file.read())\n",
    "    file.close()\n",
    "except FileNotFoundError as filex:\n",
    "    print(f'Error: {type(filex).__name__}: {filex}')"
   ]
  },
  {
   "cell_type": "markdown",
   "metadata": {},
   "source": [
    "Write a Python program that opens a file and handles a PermissionError exception if there is a permission issue."
   ]
  },
  {
   "cell_type": "code",
   "execution_count": null,
   "metadata": {},
   "outputs": [],
   "source": [
    "try:\n",
    "    path = (input('Enter path to open a file: '))\n",
    "    file = open(path, r)\n",
    "    print(file.read())\n",
    "    file.close()\n",
    "except PermissionError as filex:\n",
    "    print(f'Error: {type(filex).__name__}: {filex}')"
   ]
  }
 ],
 "metadata": {
  "kernelspec": {
   "display_name": "Python 3",
   "language": "python",
   "name": "python3"
  },
  "language_info": {
   "codemirror_mode": {
    "name": "ipython",
    "version": 3
   },
   "file_extension": ".py",
   "mimetype": "text/x-python",
   "name": "python",
   "nbconvert_exporter": "python",
   "pygments_lexer": "ipython3",
   "version": "3.13.1"
  }
 },
 "nbformat": 4,
 "nbformat_minor": 2
}
