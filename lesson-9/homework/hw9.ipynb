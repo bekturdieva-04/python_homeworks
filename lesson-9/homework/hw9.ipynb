{
 "cells": [
  {
   "cell_type": "markdown",
   "metadata": {},
   "source": [
    "Object-Oriented Programming (OOP) Exercises\n",
    "1. Circle Class\n",
    "Write a Python program to create a class representing a Circle. Include methods to calculate its area and perimeter."
   ]
  },
  {
   "cell_type": "code",
   "execution_count": 7,
   "metadata": {},
   "outputs": [
    {
     "name": "stdout",
     "output_type": "stream",
     "text": [
      "Circle Area: 78.54\n",
      "Circle Perimeter: 31.42\n"
     ]
    }
   ],
   "source": [
    "import math\n",
    "class Circle:\n",
    "    def __init__(self, radius):\n",
    "        self.radius = radius\n",
    "    \n",
    "    def area(self):\n",
    "        return math.pi * self.radius ** 2\n",
    "    \n",
    "    def perimeter(self):\n",
    "        return 2 * math.pi * self.radius\n",
    "    \n",
    "circle = Circle(5)\n",
    "print(\"Circle Area:\", round(circle.area(), 2 ))\n",
    "print(\"Circle Perimeter:\", round(circle.perimeter(), 2))"
   ]
  },
  {
   "cell_type": "markdown",
   "metadata": {},
   "source": [
    "2. Person Class\n",
    "Write a Python program to create a Person class. Include attributes like name, country, and date of birth. Implement a method to determine the person's age."
   ]
  },
  {
   "cell_type": "code",
   "execution_count": 8,
   "metadata": {},
   "outputs": [
    {
     "name": "stdout",
     "output_type": "stream",
     "text": [
      "Person Age: 30\n"
     ]
    }
   ],
   "source": [
    "from datetime import date\n",
    "class Person:\n",
    "    def __init__(self, name, country, birth_date):\n",
    "        self.name = name\n",
    "        self.country = country\n",
    "        self.birth_date = birth_date  # Format: 'YYYY-MM-DD'\n",
    "    \n",
    "    def age(self):\n",
    "        birth_year = int(self.birth_date.split('-')[0])\n",
    "        return date.today().year - birth_year\n",
    "\n",
    "person = Person(\"Alice\", \"USA\", \"1995-06-15\")\n",
    "print(\"Person Age:\", person.age())\n"
   ]
  },
  {
   "cell_type": "markdown",
   "metadata": {},
   "source": [
    "3. Calculator Class\n",
    "Write a Python program to create a Calculator class. Include methods for basic arithmetic operations."
   ]
  },
  {
   "cell_type": "code",
   "execution_count": 9,
   "metadata": {},
   "outputs": [
    {
     "name": "stdout",
     "output_type": "stream",
     "text": [
      "Addition: 15\n",
      "Subtraction: 5\n",
      "Multiplication: 50\n",
      "Division: 2.0\n"
     ]
    }
   ],
   "source": [
    "class Calculator:\n",
    "    def add(self, a, b): return a + b\n",
    "    def subtract(self, a, b): return a - b\n",
    "    def multiply(self, a, b): return a * b\n",
    "    def divide(self, a, b): return a / b if b != 0 else 'Cannot divide by zero'\n",
    "\n",
    "calc = Calculator()\n",
    "print(\"Addition:\", calc.add(10, 5))\n",
    "print(\"Subtraction:\", calc.subtract(10, 5))\n",
    "print(\"Multiplication:\", calc.multiply(10, 5))\n",
    "print(\"Division:\", calc.divide(10, 5))"
   ]
  },
  {
   "cell_type": "markdown",
   "metadata": {},
   "source": [
    "4. Shape and Subclasses\n",
    "Write a Python program to create a class that represents a shape. Include methods to calculate its area and perimeter. Implement subclasses for different shapes like Circle, Triangle, and Square."
   ]
  },
  {
   "cell_type": "code",
   "execution_count": 10,
   "metadata": {},
   "outputs": [
    {
     "name": "stdout",
     "output_type": "stream",
     "text": [
      "Square Area: 16\n",
      "Square Perimeter: 16\n"
     ]
    }
   ],
   "source": [
    "class Shape:\n",
    "    def area(self):\n",
    "        pass\n",
    "    \n",
    "    def perimeter(self):\n",
    "        pass\n",
    "\n",
    "class Circle(Shape):\n",
    "    def __init__(self, radius):\n",
    "        self.radius = radius\n",
    "    \n",
    "    def area(self):\n",
    "        return math.pi * self.radius ** 2\n",
    "    \n",
    "    def perimeter(self):\n",
    "        return 2 * math.pi * self.radius\n",
    "\n",
    "class Square(Shape):\n",
    "    def __init__(self, side):\n",
    "        self.side = side\n",
    "    \n",
    "    def area(self):\n",
    "        return self.side ** 2\n",
    "    \n",
    "    def perimeter(self):\n",
    "        return 4 * self.side\n",
    "\n",
    "square = Square(4)\n",
    "print(\"Square Area:\", square.area())\n",
    "print(\"Square Perimeter:\", square.perimeter())\n"
   ]
  },
  {
   "cell_type": "markdown",
   "metadata": {},
   "source": [
    "5. Binary Search Tree Class\n",
    "Write a Python program to create a class representing a binary search tree. Include methods for inserting and searching for elements in the binary tree."
   ]
  },
  {
   "cell_type": "code",
   "execution_count": 11,
   "metadata": {},
   "outputs": [
    {
     "name": "stdout",
     "output_type": "stream",
     "text": [
      "BST Search 10: True\n"
     ]
    }
   ],
   "source": [
    "class Node:\n",
    "    def __init__(self, value):\n",
    "        self.value = value\n",
    "        self.left = None\n",
    "        self.right = None\n",
    "\n",
    "class BST:\n",
    "    def __init__(self):\n",
    "        self.root = None\n",
    "    \n",
    "    def insert(self, value):\n",
    "        if not self.root:\n",
    "            self.root = Node(value)\n",
    "        else:\n",
    "            self._insert(self.root, value)\n",
    "    \n",
    "    def _insert(self, node, value):\n",
    "        if value < node.value:\n",
    "            if node.left:\n",
    "                self._insert(node.left, value)\n",
    "            else:\n",
    "                node.left = Node(value)\n",
    "        else:\n",
    "            if node.right:\n",
    "                self._insert(node.right, value)\n",
    "            else:\n",
    "                node.right = Node(value)\n",
    "    \n",
    "    def search(self, value):\n",
    "        return self._search(self.root, value)\n",
    "    \n",
    "    def _search(self, node, value):\n",
    "        if not node or node.value == value:\n",
    "            return node is not None\n",
    "        elif value < node.value:\n",
    "            return self._search(node.left, value)\n",
    "        else:\n",
    "            return self._search(node.right, value)\n",
    "\n",
    "\n",
    "bst = BST()\n",
    "bst.insert(10)\n",
    "bst.insert(5)\n",
    "bst.insert(15)\n",
    "print(\"BST Search 10:\", bst.search(10))\n"
   ]
  },
  {
   "cell_type": "markdown",
   "metadata": {},
   "source": [
    "6. Stack Data Structure\n",
    "Write a Python program to create a class representing a stack data structure. Include methods for pushing and popping elements."
   ]
  },
  {
   "cell_type": "code",
   "execution_count": 12,
   "metadata": {},
   "outputs": [
    {
     "name": "stdout",
     "output_type": "stream",
     "text": [
      "Stack Pop: 2\n"
     ]
    }
   ],
   "source": [
    "class Stack:\n",
    "    def __init__(self):\n",
    "        self.stack = []\n",
    "    \n",
    "    def push(self, item):\n",
    "        self.stack.append(item)\n",
    "    \n",
    "    def pop(self):\n",
    "        return self.stack.pop() if self.stack else None\n",
    "\n",
    "stack = Stack()\n",
    "stack.push(1)\n",
    "stack.push(2)\n",
    "print(\"Stack Pop:\", stack.pop())\n"
   ]
  },
  {
   "cell_type": "markdown",
   "metadata": {},
   "source": [
    "7. Linked List Data Structure\n",
    "Write a Python program to create a class representing a linked list data structure. Include methods for displaying linked list data, inserting, and deleting nodes."
   ]
  },
  {
   "cell_type": "code",
   "execution_count": 13,
   "metadata": {},
   "outputs": [
    {
     "name": "stdout",
     "output_type": "stream",
     "text": [
      "5 -> 3 -> None\n"
     ]
    }
   ],
   "source": [
    "class ListNode:\n",
    "    def __init__(self, value):\n",
    "        self.value = value\n",
    "        self.next = None\n",
    "\n",
    "class LinkedList:\n",
    "    def __init__(self):\n",
    "        self.head = None\n",
    "    \n",
    "    def insert(self, value):\n",
    "        new_node = ListNode(value)\n",
    "        new_node.next = self.head\n",
    "        self.head = new_node\n",
    "    \n",
    "    def delete(self, value):\n",
    "        current = self.head\n",
    "        prev = None\n",
    "        while current and current.value != value:\n",
    "            prev = current\n",
    "            current = current.next\n",
    "        if prev is None:\n",
    "            self.head = current.next\n",
    "        elif current:\n",
    "            prev.next = current.next\n",
    "    \n",
    "    def display(self):\n",
    "        current = self.head\n",
    "        while current:\n",
    "            print(current.value, end=' -> ')\n",
    "            current = current.next\n",
    "        print('None')\n",
    "\n",
    "ll = LinkedList()\n",
    "ll.insert(3)\n",
    "ll.insert(5)\n",
    "ll.display()\n"
   ]
  },
  {
   "cell_type": "markdown",
   "metadata": {},
   "source": [
    "8. Shopping Cart Class\n",
    "Write a Python program to create a class representing a shopping cart. Include methods for adding and removing items, and calculating the total price."
   ]
  },
  {
   "cell_type": "code",
   "execution_count": 14,
   "metadata": {},
   "outputs": [
    {
     "name": "stdout",
     "output_type": "stream",
     "text": [
      "Total Price: 3.5\n"
     ]
    }
   ],
   "source": [
    "class ShoppingCart:\n",
    "    def __init__(self):\n",
    "        self.items = {}\n",
    "    \n",
    "    def add_item(self, name, price):\n",
    "        self.items[name] = self.items.get(name, 0) + price\n",
    "    \n",
    "    def remove_item(self, name):\n",
    "        if name in self.items:\n",
    "            del self.items[name]\n",
    "    \n",
    "    def total_price(self):\n",
    "        return sum(self.items.values())\n",
    "\n",
    "cart = ShoppingCart()\n",
    "cart.add_item(\"Apple\", 1.5)\n",
    "cart.add_item(\"Banana\", 2.0)\n",
    "print(\"Total Price:\", cart.total_price())\n"
   ]
  },
  {
   "cell_type": "markdown",
   "metadata": {},
   "source": [
    "9. Stack with Display\n",
    "Write a Python program to create a class representing a stack data structure. Include methods for pushing, popping, and displaying elements."
   ]
  },
  {
   "cell_type": "code",
   "execution_count": 15,
   "metadata": {},
   "outputs": [
    {
     "name": "stdout",
     "output_type": "stream",
     "text": [
      "Stack: [1, 2]\n",
      "Stack Pop: 2\n",
      "Stack: [1]\n"
     ]
    }
   ],
   "source": [
    "class Stack:\n",
    "    def __init__(self):\n",
    "        self.stack = []\n",
    "    \n",
    "    def push(self, item):\n",
    "        self.stack.append(item)\n",
    "    \n",
    "    def pop(self):\n",
    "        return self.stack.pop() if self.stack else None\n",
    "    \n",
    "    def display(self):\n",
    "        print(\"Stack:\", self.stack)\n",
    "\n",
    "stack = Stack()\n",
    "stack.push(1)\n",
    "stack.push(2)\n",
    "stack.display()\n",
    "print(\"Stack Pop:\", stack.pop())\n",
    "stack.display()\n"
   ]
  },
  {
   "cell_type": "markdown",
   "metadata": {},
   "source": [
    "10. Queue Data Structure\n",
    "Write a Python program to create a class representing a queue data structure. Include methods for enqueueing and dequeueing elements."
   ]
  },
  {
   "cell_type": "code",
   "execution_count": 17,
   "metadata": {},
   "outputs": [
    {
     "name": "stdout",
     "output_type": "stream",
     "text": [
      "Queue: [1, 2]\n",
      "Queue Dequeue: 1\n",
      "Queue: [2]\n"
     ]
    }
   ],
   "source": [
    "class Queue:\n",
    "    def __init__(self):\n",
    "        self.queue = []\n",
    "    \n",
    "    def enqueue(self, item):\n",
    "        self.queue.append(item)\n",
    "    \n",
    "    def dequeue(self):\n",
    "        return self.queue.pop(0) if self.queue else None\n",
    "    \n",
    "    def display(self):\n",
    "        print(\"Queue:\", self.queue)\n",
    "\n",
    "queue = Queue()\n",
    "queue.enqueue(1)\n",
    "queue.enqueue(2)\n",
    "queue.display()\n",
    "print(\"Queue Dequeue:\", queue.dequeue())\n",
    "queue.display()\n"
   ]
  },
  {
   "cell_type": "markdown",
   "metadata": {},
   "source": [
    "11. Bank Class\n",
    "Write a Python program to create a class representing a bank. Include methods for managing customer accounts and transactions."
   ]
  },
  {
   "cell_type": "code",
   "execution_count": 18,
   "metadata": {},
   "outputs": [
    {
     "name": "stdout",
     "output_type": "stream",
     "text": [
      "Account created.\n",
      "Deposited 500. New balance: 1500\n",
      "Withdrew 200. New balance: 1300\n",
      "Balance: 1300\n"
     ]
    }
   ],
   "source": [
    "class Bank:\n",
    "    def __init__(self):\n",
    "        self.accounts = {}\n",
    "    \n",
    "    def create_account(self, name, balance=0):\n",
    "        if name in self.accounts:\n",
    "            return \"Account already exists.\"\n",
    "        self.accounts[name] = balance\n",
    "        return \"Account created.\"\n",
    "    \n",
    "    def deposit(self, name, amount):\n",
    "        if name in self.accounts:\n",
    "            self.accounts[name] += amount\n",
    "            return f\"Deposited {amount}. New balance: {self.accounts[name]}\"\n",
    "        return \"Account not found.\"\n",
    "    \n",
    "    def withdraw(self, name, amount):\n",
    "        if name in self.accounts and self.accounts[name] >= amount:\n",
    "            self.accounts[name] -= amount\n",
    "            return f\"Withdrew {amount}. New balance: {self.accounts[name]}\"\n",
    "        return \"Insufficient funds or account not found.\"\n",
    "    \n",
    "    def check_balance(self, name):\n",
    "        return self.accounts.get(name, \"Account not found.\")\n",
    "\n",
    "bank = Bank()\n",
    "print(bank.create_account(\"Alice\", 1000))\n",
    "print(bank.deposit(\"Alice\", 500))\n",
    "print(bank.withdraw(\"Alice\", 200))\n",
    "print(\"Balance:\", bank.check_balance(\"Alice\"))\n"
   ]
  }
 ],
 "metadata": {
  "kernelspec": {
   "display_name": "Python 3",
   "language": "python",
   "name": "python3"
  },
  "language_info": {
   "codemirror_mode": {
    "name": "ipython",
    "version": 3
   },
   "file_extension": ".py",
   "mimetype": "text/x-python",
   "name": "python",
   "nbconvert_exporter": "python",
   "pygments_lexer": "ipython3",
   "version": "3.13.1"
  }
 },
 "nbformat": 4,
 "nbformat_minor": 2
}
