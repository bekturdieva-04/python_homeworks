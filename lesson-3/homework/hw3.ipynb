{
 "cells": [
  {
   "cell_type": "markdown",
   "metadata": {},
   "source": [
    "Homework1:\n",
    "\n",
    "1. Create a tuple literal named cardinal_numbers that holds the strings\n",
    "\"first\", \"second\", and \"third\", in that order.\n",
    "2. Using index notation and print(), display the string at index 1 in\n",
    "cardinal_numbers.\n",
    "3. In a single line of code, unpack the values in cardinal_numbers into\n",
    "three new strings named position1, position2, and position3. Then\n",
    "print each value on a separate line.\n",
    "4. Using tuple() and a string literal, create a tuple called my_name that\n",
    "contains the letters of your name.\n",
    "5. Check whether the character \"x\" is in my_name using the in keyword.\n",
    "6. Create a new tuple containing all but the first letter in my_name using\n",
    "slice notation."
   ]
  },
  {
   "cell_type": "code",
   "execution_count": 6,
   "metadata": {},
   "outputs": [
    {
     "name": "stdout",
     "output_type": "stream",
     "text": [
      "second\n",
      "first\n",
      "second\n",
      "third\n",
      "The character 'x' is not in the name.\n",
      "('n', 'd', 'i', 'r', 'a')\n"
     ]
    }
   ],
   "source": [
    "cardinal_numbers = (\"first\",\"second\", \"third\")\n",
    "\n",
    "print(cardinal_numbers[1])\n",
    "\n",
    "position1, position2, position3 = cardinal_numbers\n",
    "print(position1)\n",
    "print(position2)\n",
    "print(position3)\n",
    "\n",
    "my_name = (\"i\",\"n\",\"d\",\"i\",\"r\",\"a\")\n",
    "if 'x' in my_name:\n",
    "    print(\"The character 'x' is in the name.\")\n",
    "else:\n",
    "     print(\"The character 'x' is not in the name.\")\n",
    "\n",
    "new_name = my_name[1:]\n",
    "print(new_name)"
   ]
  },
  {
   "cell_type": "markdown",
   "metadata": {},
   "source": [
    "Homework2:"
   ]
  },
  {
   "cell_type": "code",
   "execution_count": 1,
   "metadata": {},
   "outputs": [
    {
     "name": "stdout",
     "output_type": "stream",
     "text": [
      "['rice', 'beans', 'broccoli']\n",
      "['rice', 'beans', 'broccoli', 'bread', 'bread']\n",
      "['rice', 'beans']\n",
      "bread\n",
      "['eggs', ' fruit', ' orange juice']\n",
      "3\n"
     ]
    }
   ],
   "source": [
    "#1. Create a list named food with two elements, \"rice\" and \"beans\".\n",
    "food = [\"rice\", \"beans\"]\n",
    "\n",
    "#2. Append the string \"broccoli\" to food using .append().\n",
    "food.append(\"broccoli\")\n",
    "print(food)\n",
    "\n",
    "#3. Add the strings \"bread\" and \"pizza\" to food using .extend().\n",
    "food.extend([\"bread\", \"bread\"])\n",
    "print(food)\n",
    "\n",
    "#4. Print the first two items in the food list using print() and slice no tation.\n",
    "print(food[0:2])\n",
    "\n",
    "#5. Print the last item in food using print() and index notation.\n",
    "print(food[-1])\n",
    "#6. Create a list called breakfast from the string \"eggs, fruit, orange juice\" using the string .split() method.\n",
    "string = \"eggs, fruit, orange juice\"\n",
    "breakfast = string.split(\",\")\n",
    "print(breakfast)\n",
    "\n",
    "#7. Verify that breakfast has three items using len().\n",
    "print(len(breakfast))"
   ]
  },
  {
   "cell_type": "markdown",
   "metadata": {},
   "source": [
    "Homework 3\n"
   ]
  },
  {
   "cell_type": "code",
   "execution_count": 2,
   "metadata": {},
   "outputs": [
    {
     "name": "stdout",
     "output_type": "stream",
     "text": [
      "5 3\n"
     ]
    }
   ],
   "source": [
    "#Given two integer variables: a and b. Swap the values of the variables.\n",
    "a = int(input())\n",
    "b = int(input())\n",
    "# write code here. Don't change given conditions\n",
    "temp = a\n",
    "a=b\n",
    "b=temp\n",
    "print(a, b)\n",
    "\n"
   ]
  },
  {
   "cell_type": "markdown",
   "metadata": {},
   "source": [
    "practice for lists:level1\n",
    "task1"
   ]
  },
  {
   "cell_type": "code",
   "execution_count": 3,
   "metadata": {},
   "outputs": [
    {
     "name": "stdout",
     "output_type": "stream",
     "text": [
      "['apple', 'banana', 'cherry', 'orange', 'grape', 'kiwi']\n"
     ]
    }
   ],
   "source": [
    "fruits = [\"apple\", \"banana\", \"cherry\"]\n",
    "fruits.append(\"orange\")\n",
    "fruits.extend([\"grape\", \"kiwi\"])\n",
    "print(fruits)"
   ]
  },
  {
   "cell_type": "markdown",
   "metadata": {},
   "source": [
    "task2"
   ]
  },
  {
   "cell_type": "code",
   "execution_count": 5,
   "metadata": {},
   "outputs": [
    {
     "name": "stdout",
     "output_type": "stream",
     "text": [
      "[10, 20, 30, 40, 50]\n"
     ]
    }
   ],
   "source": [
    "numbers = [10, 20, 40, 50]\n",
    "numbers.insert(2, 30)\n",
    "print(numbers)"
   ]
  },
  {
   "cell_type": "markdown",
   "metadata": {},
   "source": [
    "task3"
   ]
  },
  {
   "cell_type": "code",
   "execution_count": 7,
   "metadata": {},
   "outputs": [
    {
     "name": "stdout",
     "output_type": "stream",
     "text": [
      "['red', 'green', 'yellow', 'blue']\n"
     ]
    }
   ],
   "source": [
    "colors = [\"red\", \"green\", \"blue\", \"yellow\", \"blue\"]\n",
    "colors.remove(\"blue\")\n",
    "print(colors)"
   ]
  },
  {
   "cell_type": "markdown",
   "metadata": {},
   "source": [
    "task4"
   ]
  },
  {
   "cell_type": "code",
   "execution_count": 9,
   "metadata": {},
   "outputs": [
    {
     "name": "stdout",
     "output_type": "stream",
     "text": [
      "2\n"
     ]
    }
   ],
   "source": [
    "animals = [\"cat\", \"dog\", \"bird\", \"fish\"]\n",
    "print(animals.index(\"bird\"))"
   ]
  },
  {
   "cell_type": "code",
   "execution_count": 12,
   "metadata": {},
   "outputs": [
    {
     "name": "stdout",
     "output_type": "stream",
     "text": [
      "3\n"
     ]
    }
   ],
   "source": [
    "# task5\n",
    "nums = [1, 2, 3, 4, 1, 2, 1]\n",
    "print(nums.count(1))"
   ]
  },
  {
   "cell_type": "code",
   "execution_count": 13,
   "metadata": {},
   "outputs": [
    {
     "name": "stdout",
     "output_type": "stream",
     "text": [
      "[25, 20, 15, 10, 5]\n"
     ]
    }
   ],
   "source": [
    "# task6\n",
    "integers = [5, 10, 15, 20, 25]\n",
    "integers.reverse()\n",
    "print(integers)"
   ]
  },
  {
   "cell_type": "code",
   "execution_count": 15,
   "metadata": {},
   "outputs": [
    {
     "name": "stdout",
     "output_type": "stream",
     "text": [
      "[1, 3, 5, 7, 9]\n",
      "[9, 7, 5, 3, 1]\n"
     ]
    }
   ],
   "source": [
    "# task7\n",
    "n = [7, 3, 9, 1, 5]\n",
    "n.sort()\n",
    "print(n)\n",
    "n.sort()\n",
    "n.reverse()\n",
    "print(n)"
   ]
  },
  {
   "cell_type": "code",
   "execution_count": 17,
   "metadata": {},
   "outputs": [
    {
     "name": "stdout",
     "output_type": "stream",
     "text": [
      "['New York', 'Paris', 'Tokyo', 'Sydney']\n",
      "['New York', 'Paris', 'Tokyo', 'Sydney', 'Tashkent']\n"
     ]
    }
   ],
   "source": [
    "# task8\n",
    "cities = [\"New York\", \"Paris\", \"Tokyo\", \"Sydney\"]\n",
    "copy_cities = cities.copy()\n",
    "cities.append(\"Tashkent\")\n",
    "print(copy_cities)\n",
    "print(cities)"
   ]
  },
  {
   "cell_type": "code",
   "execution_count": 19,
   "metadata": {},
   "outputs": [
    {
     "name": "stdout",
     "output_type": "stream",
     "text": [
      "[]\n"
     ]
    }
   ],
   "source": [
    "# task9\n",
    "r_numbers = [8, 4, 6, 2, 9]\n",
    "r_numbers.clear()\n",
    "print(r_numbers)"
   ]
  },
  {
   "cell_type": "code",
   "execution_count": 23,
   "metadata": {},
   "outputs": [
    {
     "name": "stdout",
     "output_type": "stream",
     "text": [
      "May\n",
      "February\n"
     ]
    }
   ],
   "source": [
    "# task10\n",
    "months = [\"January\", \"February\", \"March\", \"April\", \"May\"]\n",
    "last_element = months.pop()\n",
    "print(last_element)\n",
    "second_element = months.pop(1)\n",
    "print(second_element)"
   ]
  },
  {
   "cell_type": "markdown",
   "metadata": {},
   "source": [
    "# level2"
   ]
  },
  {
   "cell_type": "code",
   "execution_count": 25,
   "metadata": {},
   "outputs": [
    {
     "name": "stdout",
     "output_type": "stream",
     "text": [
      "[7, 5, 2, 9, 19]\n"
     ]
    }
   ],
   "source": [
    "# task1\n",
    "random_nums = [7, 8, 3, 2, 9]\n",
    "random_nums.append(19)\n",
    "random_nums[1] = 5\n",
    "random_nums.pop(2)\n",
    "print(random_nums)"
   ]
  },
  {
   "cell_type": "code",
   "execution_count": 27,
   "metadata": {},
   "outputs": [
    {
     "name": "stdout",
     "output_type": "stream",
     "text": [
      "Maximum value: 90\n",
      "Minimum value: 2\n"
     ]
    }
   ],
   "source": [
    "# task2\n",
    "ls = [15, 2, 78, 34, 7, 90]\n",
    "max_value = max(ls)\n",
    "min_value = min(ls)\n",
    "print(\"Maximum value:\", max_value)\n",
    "print(\"Minimum value:\", min_value)"
   ]
  },
  {
   "cell_type": "code",
   "execution_count": 29,
   "metadata": {},
   "outputs": [
    {
     "name": "stdout",
     "output_type": "stream",
     "text": [
      "Sum of lists: 150\n",
      "Average of lists: 30.0\n"
     ]
    }
   ],
   "source": [
    "# task3\n",
    "ls1 = [10, 20, 30, 40, 50]\n",
    "sum_ls1 = sum(ls1)\n",
    "avg_ls1 = sum_ls1 / len(ls1)\n",
    "print(\"Sum of lists:\", sum_ls1)\n",
    "print(\"Average of lists:\", avg_ls1)"
   ]
  },
  {
   "cell_type": "code",
   "execution_count": 31,
   "metadata": {},
   "outputs": [
    {
     "name": "stdout",
     "output_type": "stream",
     "text": [
      "['apple', 'banana', 'cherry', 'date']\n",
      "['date', 'cherry', 'banana', 'apple']\n"
     ]
    }
   ],
   "source": [
    "# task4\n",
    "strings = [\"banana\", \"apple\", \"cherry\", \"date\"]\n",
    "strings.sort()\n",
    "print(strings)\n",
    "strings.sort()\n",
    "strings.reverse()\n",
    "print(strings)"
   ]
  },
  {
   "cell_type": "markdown",
   "metadata": {},
   "source": [
    "# practice for tuples"
   ]
  },
  {
   "cell_type": "code",
   "execution_count": 33,
   "metadata": {},
   "outputs": [
    {
     "name": "stdout",
     "output_type": "stream",
     "text": [
      "(7, 'string', 2.3, True, [2, 3, 7, 8])\n"
     ]
    }
   ],
   "source": [
    "# task1\n",
    "tuple1 = 7, \"string\", 2.3, True, [2, 3, 7, 8]\n",
    "print(tuple1)"
   ]
  },
  {
   "cell_type": "code",
   "execution_count": 34,
   "metadata": {},
   "outputs": [
    {
     "name": "stdout",
     "output_type": "stream",
     "text": [
      "banana\n",
      "date\n"
     ]
    }
   ],
   "source": [
    "# task2\n",
    "tuple2 = (\"apple\", \"banana\", \"cherry\", \"date\")\n",
    "print(tuple2[1])\n",
    "print(tuple2[-1])"
   ]
  },
  {
   "cell_type": "code",
   "execution_count": 37,
   "metadata": {},
   "outputs": [
    {
     "name": "stdout",
     "output_type": "stream",
     "text": [
      "(20, 30, 40)\n"
     ]
    }
   ],
   "source": [
    "tuple3 = (10, 20, 30, 40, 50, 60)\n",
    "print(tuple3[1:4])"
   ]
  },
  {
   "cell_type": "code",
   "execution_count": 38,
   "metadata": {},
   "outputs": [],
   "source": [
    "# task4\n",
    "tuple4 = (\"red\", \"green\", \"blue\", \"yellow\")"
   ]
  },
  {
   "cell_type": "code",
   "execution_count": 39,
   "metadata": {},
   "outputs": [
    {
     "name": "stdout",
     "output_type": "stream",
     "text": [
      "6\n"
     ]
    }
   ],
   "source": [
    "# task5\n",
    "tuple5 = (1, 2, 3, 4, 5, 6)\n",
    "print(len(tuple5))"
   ]
  },
  {
   "cell_type": "code",
   "execution_count": 41,
   "metadata": {},
   "outputs": [
    {
     "name": "stdout",
     "output_type": "stream",
     "text": [
      "('a', 'b', 'c', 1, 2, 3)\n"
     ]
    }
   ],
   "source": [
    "# task6\n",
    "tuple6_1 = (\"a\", \"b\", \"c\")\n",
    "tuple6_2 = (1, 2, 3)\n",
    "tuple6 = tuple6_1 + tuple6_2\n",
    "print(tuple6)"
   ]
  },
  {
   "cell_type": "code",
   "execution_count": 42,
   "metadata": {},
   "outputs": [
    {
     "name": "stdout",
     "output_type": "stream",
     "text": [
      "3\n"
     ]
    }
   ],
   "source": [
    "# task7\n",
    "tuple7 = (1, 2, 2, 3, 4, 4, 4, 5)\n",
    "print(tuple7.count(4))"
   ]
  },
  {
   "cell_type": "code",
   "execution_count": 44,
   "metadata": {},
   "outputs": [
    {
     "name": "stdout",
     "output_type": "stream",
     "text": [
      "1\n"
     ]
    }
   ],
   "source": [
    "# task8\n",
    "tuple8 = (\"cat\", \"dog\", \"bird\", \"fish\")\n",
    "print(tuple8.index(\"dog\"))"
   ]
  },
  {
   "cell_type": "code",
   "execution_count": 46,
   "metadata": {},
   "outputs": [
    {
     "name": "stdout",
     "output_type": "stream",
     "text": [
      "Python\n",
      "3.1\n",
      "Programming\n"
     ]
    }
   ],
   "source": [
    "# task9\n",
    "tuple9 = (\"Python\", 3.10, \"Programming\")\n",
    "var1, var2, var3 = tuple9\n",
    "print(var1)\n",
    "print(var2)\n",
    "print(var3)"
   ]
  }
 ],
 "metadata": {
  "kernelspec": {
   "display_name": "Python 3",
   "language": "python",
   "name": "python3"
  },
  "language_info": {
   "codemirror_mode": {
    "name": "ipython",
    "version": 3
   },
   "file_extension": ".py",
   "mimetype": "text/x-python",
   "name": "python",
   "nbconvert_exporter": "python",
   "pygments_lexer": "ipython3",
   "version": "3.13.1"
  }
 },
 "nbformat": 4,
 "nbformat_minor": 2
}
