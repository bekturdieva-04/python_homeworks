{
 "cells": [
  {
   "cell_type": "markdown",
   "metadata": {},
   "source": [
    "Homework 1:\n",
    "\n",
    "import pandas as pd\n",
    "\n",
    "data = {'First Name': ['Alice', 'Bob', 'Charlie', 'David'], 'Age': [25, 30, 35, 40], 'City': ['New York', 'San Francisco', 'Los Angeles', 'Chicago']} df = pd.DataFrame(data)\n",
    "\n",
    "Rename column names using function. \"First Name\" --> \"first_name\", \"Age\" --> \"age\n",
    "Print the first 3 rows of the DataFrame\n",
    "Find the mean age of the individuals\n",
    "Select and print only the 'Name' and 'City' columns\n",
    "Add a new column 'Salary' with random salary values\n",
    "Display summary statistics of the DataFrame"
   ]
  },
  {
   "cell_type": "code",
   "execution_count": null,
   "metadata": {},
   "outputs": [
    {
     "ename": "ModuleNotFoundError",
     "evalue": "No module named 'requests'",
     "output_type": "error",
     "traceback": [
      "\u001b[1;31m---------------------------------------------------------------------------\u001b[0m",
      "\u001b[1;31mModuleNotFoundError\u001b[0m                       Traceback (most recent call last)",
      "Cell \u001b[1;32mIn[3], line 1\u001b[0m\n\u001b[1;32m----> 1\u001b[0m \u001b[38;5;28;01mimport\u001b[39;00m\u001b[38;5;250m \u001b[39m\u001b[38;5;21;01mrequests\u001b[39;00m\n\u001b[0;32m      2\u001b[0m respond \u001b[38;5;241m=\u001b[39m requests\u001b[38;5;241m.\u001b[39mget()\n",
      "\u001b[1;31mModuleNotFoundError\u001b[0m: No module named 'requests'"
     ]
    }
   ],
   "source": []
  },
  {
   "cell_type": "markdown",
   "metadata": {},
   "source": [
    "# Homework 2:"
   ]
  },
  {
   "cell_type": "code",
   "execution_count": null,
   "metadata": {},
   "outputs": [
    {
     "name": "stdout",
     "output_type": "stream",
     "text": [
      "Maximum sales 8000\n",
      "Maximum expenses 4500\n",
      "Minimum sales 5000\n",
      "Minimum expenses 3000\n",
      "Average sales 6625.0\n",
      "Average expenses 3750.0\n"
     ]
    }
   ],
   "source": [
    "#Create a DataFrame named sales_and_expenses with columns 'Month', 'Sales', and 'Expenses', representing monthly sales and expenses data. Use below table.\n",
    "data = {\"Month\": [\"Jan\",\"Feb\",\"Mar\",\"Apr\"], \n",
    "        \"Sales\": [5000,6000,7500,8000],\n",
    "        \"Expenses\": [3000, 3500, 4000, 4500]\n",
    "      }\n",
    "\n",
    "df = pd.DataFrame(data)\n",
    "df\n",
    "\n",
    "#Calculate and display the maximum sales and expenses.\n",
    "print(\"Maximum sales\",df[\"Sales\"].max())\n",
    "print(\"Maximum expenses\",df[\"Expenses\"].max())\n",
    "\n",
    "#Calculate and display the minimum sales and expenses.\n",
    "print(\"Minimum sales\",df[\"Sales\"].min())\n",
    "print(\"Minimum expenses\",df[\"Expenses\"].min())\n",
    "\n",
    "#Calculate and display the average sales and expenses.\n",
    "print(\"Average sales\",df[\"Sales\"].mean())\n",
    "print(\"Average expenses\",df[\"Expenses\"].mean())\n"
   ]
  },
  {
   "cell_type": "markdown",
   "metadata": {},
   "source": [
    "# Homework 3"
   ]
  },
  {
   "cell_type": "code",
   "execution_count": 34,
   "metadata": {},
   "outputs": [
    {
     "name": "stdout",
     "output_type": "stream",
     "text": [
      "Category\n",
      "Rent             1500\n",
      "Utilities         250\n",
      "Groceries         350\n",
      "Entertainment    1500\n",
      "dtype: int64\n",
      "Category\n",
      "Rent             1200\n",
      "Utilities         200\n",
      "Groceries         300\n",
      "Entertainment     160\n",
      "dtype: int64\n",
      "Category\n",
      "Rent             1350.0\n",
      "Utilities         227.5\n",
      "Groceries         325.0\n",
      "Entertainment     502.5\n",
      "dtype: float64\n"
     ]
    }
   ],
   "source": [
    "#Create a DataFrame named expenses with columns 'Category', 'January', 'February', 'March', and 'April', representing monthly expenses for different categories. Use below table.\n",
    "data = {\"Category\": [\"Rent\",\"Utilities\",\"Groceries\",\"Entertainment\"], \n",
    "        \"January\": [1200,200,300,1500],\n",
    "        \"February\": [1300, 220, 320, 160],\n",
    "        \"March\": [1400, 240, 330, 170],\n",
    "        \"April\": [1500, 250, 350, 180]\n",
    "      }\n",
    "\n",
    "df = pd.DataFrame(data)\n",
    "df\n",
    "\n",
    "#Calculate and display the maximum expense for each category..\n",
    "df.set_index(\"Category\", inplace=True)\n",
    "print(df.max(axis=1))\n",
    "\n",
    "#Calculate and display the minimum expense for each category.\n",
    "print(df.min(axis=1))\n",
    "\n",
    "#Calculate and display the average expense for each category.\n",
    "print(df.mean(axis=1))"
   ]
  }
 ],
 "metadata": {
  "kernelspec": {
   "display_name": "Python 3",
   "language": "python",
   "name": "python3"
  },
  "language_info": {
   "codemirror_mode": {
    "name": "ipython",
    "version": 3
   },
   "file_extension": ".py",
   "mimetype": "text/x-python",
   "name": "python",
   "nbconvert_exporter": "python",
   "pygments_lexer": "ipython3",
   "version": "3.13.1"
  }
 },
 "nbformat": 4,
 "nbformat_minor": 2
}
