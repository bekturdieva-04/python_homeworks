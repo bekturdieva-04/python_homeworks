{
 "cells": [
  {
   "cell_type": "markdown",
   "metadata": {},
   "source": [
    "Homework 1:\n",
    "\n",
    "import pandas as pd\n",
    "\n",
    "data = {'First Name': ['Alice', 'Bob', 'Charlie', 'David'], 'Age': [25, 30, 35, 40], 'City': ['New York', 'San Francisco', 'Los Angeles', 'Chicago']} df = pd.DataFrame(data)\n",
    "\n",
    "Rename column names using function. \"First Name\" --> \"first_name\", \"Age\" --> \"age\n",
    "Print the first 3 rows of the DataFrame\n",
    "Find the mean age of the individuals\n",
    "Select and print only the 'Name' and 'City' columns\n",
    "Add a new column 'Salary' with random salary values\n",
    "Display summary statistics of the DataFrame"
   ]
  },
  {
   "cell_type": "code",
   "execution_count": 20,
   "metadata": {},
   "outputs": [
    {
     "name": "stdout",
     "output_type": "stream",
     "text": [
      "  first_name  age           City\n",
      "0      Alice   25       New York\n",
      "1        Bob   30  San Francisco\n",
      "2    Charlie   35    Los Angeles\n",
      "32.5\n",
      "  first_name           City\n",
      "0      Alice       New York\n",
      "1        Bob  San Francisco\n",
      "2    Charlie    Los Angeles\n",
      "3      David        Chicago\n"
     ]
    },
    {
     "data": {
      "text/html": [
       "<div>\n",
       "<style scoped>\n",
       "    .dataframe tbody tr th:only-of-type {\n",
       "        vertical-align: middle;\n",
       "    }\n",
       "\n",
       "    .dataframe tbody tr th {\n",
       "        vertical-align: top;\n",
       "    }\n",
       "\n",
       "    .dataframe thead th {\n",
       "        text-align: right;\n",
       "    }\n",
       "</style>\n",
       "<table border=\"1\" class=\"dataframe\">\n",
       "  <thead>\n",
       "    <tr style=\"text-align: right;\">\n",
       "      <th></th>\n",
       "      <th>age</th>\n",
       "      <th>Salary</th>\n",
       "    </tr>\n",
       "  </thead>\n",
       "  <tbody>\n",
       "    <tr>\n",
       "      <th>count</th>\n",
       "      <td>4.000000</td>\n",
       "      <td>4.000000</td>\n",
       "    </tr>\n",
       "    <tr>\n",
       "      <th>mean</th>\n",
       "      <td>32.500000</td>\n",
       "      <td>4500.000000</td>\n",
       "    </tr>\n",
       "    <tr>\n",
       "      <th>std</th>\n",
       "      <td>6.454972</td>\n",
       "      <td>2081.665999</td>\n",
       "    </tr>\n",
       "    <tr>\n",
       "      <th>min</th>\n",
       "      <td>25.000000</td>\n",
       "      <td>2000.000000</td>\n",
       "    </tr>\n",
       "    <tr>\n",
       "      <th>25%</th>\n",
       "      <td>28.750000</td>\n",
       "      <td>3500.000000</td>\n",
       "    </tr>\n",
       "    <tr>\n",
       "      <th>50%</th>\n",
       "      <td>32.500000</td>\n",
       "      <td>4500.000000</td>\n",
       "    </tr>\n",
       "    <tr>\n",
       "      <th>75%</th>\n",
       "      <td>36.250000</td>\n",
       "      <td>5500.000000</td>\n",
       "    </tr>\n",
       "    <tr>\n",
       "      <th>max</th>\n",
       "      <td>40.000000</td>\n",
       "      <td>7000.000000</td>\n",
       "    </tr>\n",
       "  </tbody>\n",
       "</table>\n",
       "</div>"
      ],
      "text/plain": [
       "             age       Salary\n",
       "count   4.000000     4.000000\n",
       "mean   32.500000  4500.000000\n",
       "std     6.454972  2081.665999\n",
       "min    25.000000  2000.000000\n",
       "25%    28.750000  3500.000000\n",
       "50%    32.500000  4500.000000\n",
       "75%    36.250000  5500.000000\n",
       "max    40.000000  7000.000000"
      ]
     },
     "execution_count": 20,
     "metadata": {},
     "output_type": "execute_result"
    }
   ],
   "source": [
    "import pandas as pd\n",
    "data = {'First Name': ['Alice', 'Bob', 'Charlie', 'David'], 'Age': [25, 30, 35, 40], 'City': ['New York', 'San Francisco', 'Los Angeles', 'Chicago']} \n",
    "df = pd.DataFrame(data)\n",
    "\n",
    "#Rename column names using function. \"First Name\" --> \"first_name\", \"Age\" --> \"age\n",
    "df = df.rename(columns={'First Name': 'first_name', 'Age': 'age'})\n",
    "df \n",
    "\n",
    "#Print the first 3 rows of the DataFrame\n",
    "print(df.head(3))\n",
    "\n",
    "#Find the mean age of the individuals\n",
    "print( df[\"age\"].mean())\n",
    "\n",
    "#Select and print only the 'Name' and 'City' columns\n",
    "print(df[[\"first_name\", \"City\"]])\n",
    "\n",
    "#Add a new column 'Salary' with random salary values\n",
    "df[\"Salary\"] = [2000, 4000, 5000, 7000]\n",
    "df\n",
    "\n",
    "#Display summary statistics of the DataFrame\n",
    "df.describe()"
   ]
  },
  {
   "cell_type": "markdown",
   "metadata": {},
   "source": [
    "# Homework 2:"
   ]
  },
  {
   "cell_type": "code",
   "execution_count": null,
   "metadata": {},
   "outputs": [
    {
     "name": "stdout",
     "output_type": "stream",
     "text": [
      "Maximum sales 8000\n",
      "Maximum expenses 4500\n",
      "Minimum sales 5000\n",
      "Minimum expenses 3000\n",
      "Average sales 6625.0\n",
      "Average expenses 3750.0\n"
     ]
    }
   ],
   "source": [
    "#Create a DataFrame named sales_and_expenses with columns 'Month', 'Sales', and 'Expenses', representing monthly sales and expenses data. Use below table.\n",
    "data = {\"Month\": [\"Jan\",\"Feb\",\"Mar\",\"Apr\"], \n",
    "        \"Sales\": [5000,6000,7500,8000],\n",
    "        \"Expenses\": [3000, 3500, 4000, 4500]\n",
    "      }\n",
    "\n",
    "df = pd.DataFrame(data)\n",
    "df\n",
    "\n",
    "#Calculate and display the maximum sales and expenses.\n",
    "print(\"Maximum sales\",df[\"Sales\"].max())\n",
    "print(\"Maximum expenses\",df[\"Expenses\"].max())\n",
    "\n",
    "#Calculate and display the minimum sales and expenses.\n",
    "print(\"Minimum sales\",df[\"Sales\"].min())\n",
    "print(\"Minimum expenses\",df[\"Expenses\"].min())\n",
    "\n",
    "#Calculate and display the average sales and expenses.\n",
    "print(\"Average sales\",df[\"Sales\"].mean())\n",
    "print(\"Average expenses\",df[\"Expenses\"].mean())\n"
   ]
  },
  {
   "cell_type": "markdown",
   "metadata": {},
   "source": [
    "# Homework 3"
   ]
  },
  {
   "cell_type": "code",
   "execution_count": 34,
   "metadata": {},
   "outputs": [
    {
     "name": "stdout",
     "output_type": "stream",
     "text": [
      "Category\n",
      "Rent             1500\n",
      "Utilities         250\n",
      "Groceries         350\n",
      "Entertainment    1500\n",
      "dtype: int64\n",
      "Category\n",
      "Rent             1200\n",
      "Utilities         200\n",
      "Groceries         300\n",
      "Entertainment     160\n",
      "dtype: int64\n",
      "Category\n",
      "Rent             1350.0\n",
      "Utilities         227.5\n",
      "Groceries         325.0\n",
      "Entertainment     502.5\n",
      "dtype: float64\n"
     ]
    }
   ],
   "source": [
    "#Create a DataFrame named expenses with columns 'Category', 'January', 'February', 'March', and 'April', representing monthly expenses for different categories. Use below table.\n",
    "data = {\"Category\": [\"Rent\",\"Utilities\",\"Groceries\",\"Entertainment\"], \n",
    "        \"January\": [1200,200,300,1500],\n",
    "        \"February\": [1300, 220, 320, 160],\n",
    "        \"March\": [1400, 240, 330, 170],\n",
    "        \"April\": [1500, 250, 350, 180]\n",
    "      }\n",
    "\n",
    "df = pd.DataFrame(data)\n",
    "df\n",
    "\n",
    "#Calculate and display the maximum expense for each category..\n",
    "df.set_index(\"Category\", inplace=True)\n",
    "print(df.max(axis=1))\n",
    "\n",
    "#Calculate and display the minimum expense for each category.\n",
    "print(df.min(axis=1))\n",
    "\n",
    "#Calculate and display the average expense for each category.\n",
    "print(df.mean(axis=1))"
   ]
  }
 ],
 "metadata": {
  "kernelspec": {
   "display_name": "Python 3",
   "language": "python",
   "name": "python3"
  },
  "language_info": {
   "codemirror_mode": {
    "name": "ipython",
    "version": 3
   },
   "file_extension": ".py",
   "mimetype": "text/x-python",
   "name": "python",
   "nbconvert_exporter": "python",
   "pygments_lexer": "ipython3",
   "version": "3.13.1"
  }
 },
 "nbformat": 4,
 "nbformat_minor": 2
}
